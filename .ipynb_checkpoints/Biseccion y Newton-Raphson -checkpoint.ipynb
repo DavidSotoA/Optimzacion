{
 "cells": [
  {
   "cell_type": "code",
   "execution_count": 30,
   "metadata": {
    "collapsed": false
   },
   "outputs": [],
   "source": [
    "import pandas as pd\n",
    "import numpy as np\n",
    "import math as m\n",
    "from IPython.display import display, HTML\n",
    "\n",
    "def isNegative(num):\n",
    "    return  num < 0\n",
    "\n",
    "def biseccion(threshold, f, epsilon, numIterations):\n",
    "    x0 = threshold[0]\n",
    "    x1 = threshold[1]\n",
    "    assert (isNegative(f.evalf(subs={x:x0})) != isNegative(f.evalf(subs={x:x1}))),\"Biseccion: Los signos de los limites deben ser diferentes\"\n",
    "    \n",
    "    values = pd.DataFrame(columns=('x0', 'x1', 'xp', 'f(x0)', 'f(x1)', 'f(xp)', 'error'))\n",
    "    i = 0\n",
    "    error = m.fabs(x0 - x1)\n",
    "    while((i < numIterations) and (error > epsilon)):\n",
    "        xp = x0 + (m.fabs(x0-x1)/2)\n",
    "        f_x0 = f.evalf(subs={x:x0})\n",
    "        f_x1 = f.evalf(subs={x:x1})\n",
    "        biseccion = f.evalf(subs={x:xp})\n",
    "        if(biseccion == 0):\n",
    "            return values\n",
    "        elif(isNegative(f_x0) == isNegative(biseccion)):\n",
    "            x0 = xp\n",
    "        elif(isNegative(f_x1) == isNegative(biseccion)): \n",
    "            x1 = xp\n",
    "        i = i + 1 \n",
    "        error = m.fabs(x0 - x1)\n",
    "        values.loc[len(values)] = [x0, x1, xp, f_x0, f_x1, biseccion, error]\n",
    "    return values \n",
    "\n",
    "def newtonRaphson(point, f, epsilon, numIterations):\n",
    "    derivative = f.diff(x)\n",
    "    values = pd.DataFrame(columns=('x', 'new_x', 'f(x)', 'f(x_new_x)', 'error'))\n",
    "    error = -1\n",
    "    i = 0\n",
    "    while((i < numIterations) and (error > epsilon or error == -1)):\n",
    "        f_point = f.evalf(subs={x:point})\n",
    "        fp_point = derivative.evalf(subs={x:point})\n",
    "        point2 = point - (f_point)/(fp_point)\n",
    "        error = m.fabs(point2 - point)\n",
    "        f_newPoint = f.evalf(subs={x:point2})\n",
    "        values.loc[len(values)] = [point, point2, f_point, f_newPoint, error]\n",
    "        i = i + 1\n",
    "    return values\n",
    "\n",
    "    \n",
    "    \n",
    "        "
   ]
  },
  {
   "cell_type": "code",
   "execution_count": 31,
   "metadata": {
    "collapsed": false
   },
   "outputs": [
    {
     "data": {
      "text/html": [
       "<div>\n",
       "<table border=\"1\" class=\"dataframe\">\n",
       "  <thead>\n",
       "    <tr style=\"text-align: right;\">\n",
       "      <th></th>\n",
       "      <th>x</th>\n",
       "      <th>new_x</th>\n",
       "      <th>f(x)</th>\n",
       "      <th>f(x_prima)</th>\n",
       "      <th>error</th>\n",
       "    </tr>\n",
       "  </thead>\n",
       "  <tbody>\n",
       "    <tr>\n",
       "      <th>0</th>\n",
       "      <td>3</td>\n",
       "      <td>3.57352941176471</td>\n",
       "      <td>3.90000000000000</td>\n",
       "      <td>-6.80000000000000</td>\n",
       "      <td>5.735294e-01</td>\n",
       "    </tr>\n",
       "    <tr>\n",
       "      <th>1</th>\n",
       "      <td>3.57352941176471</td>\n",
       "      <td>3.41188658064441</td>\n",
       "      <td>-2.85356947560344</td>\n",
       "      <td>-17.6535479849379</td>\n",
       "      <td>1.616428e-01</td>\n",
       "    </tr>\n",
       "    <tr>\n",
       "      <th>2</th>\n",
       "      <td>3.41188658064441</td>\n",
       "      <td>3.39060981170239</td>\n",
       "      <td>-0.298651429044557</td>\n",
       "      <td>-14.0365029041067</td>\n",
       "      <td>2.127677e-02</td>\n",
       "    </tr>\n",
       "    <tr>\n",
       "      <th>3</th>\n",
       "      <td>3.39060981170239</td>\n",
       "      <td>3.39026318075366</td>\n",
       "      <td>-0.00471239433205659</td>\n",
       "      <td>-13.5948458993752</td>\n",
       "      <td>3.466309e-04</td>\n",
       "    </tr>\n",
       "    <tr>\n",
       "      <th>4</th>\n",
       "      <td>3.39026318075366</td>\n",
       "      <td>3.39026308979665</td>\n",
       "      <td>-1.23589789141187e-6</td>\n",
       "      <td>-13.5877153291889</td>\n",
       "      <td>9.095701e-08</td>\n",
       "    </tr>\n",
       "  </tbody>\n",
       "</table>\n",
       "</div>"
      ],
      "text/plain": [
       "                  x             new_x                  f(x)  \\\n",
       "0                 3  3.57352941176471      3.90000000000000   \n",
       "1  3.57352941176471  3.41188658064441     -2.85356947560344   \n",
       "2  3.41188658064441  3.39060981170239    -0.298651429044557   \n",
       "3  3.39060981170239  3.39026318075366  -0.00471239433205659   \n",
       "4  3.39026318075366  3.39026308979665  -1.23589789141187e-6   \n",
       "\n",
       "          f(x_prima)         error  \n",
       "0  -6.80000000000000  5.735294e-01  \n",
       "1  -17.6535479849379  1.616428e-01  \n",
       "2  -14.0365029041067  2.127677e-02  \n",
       "3  -13.5948458993752  3.466309e-04  \n",
       "4  -13.5877153291889  9.095701e-08  "
      ]
     },
     "execution_count": 31,
     "metadata": {},
     "output_type": "execute_result"
    }
   ],
   "source": [
    "from sympy.abc import x\n",
    "\n",
    "y = -(0.3 * (x ** 4)) + (1.2 * (x ** 3)) - (1.8 * (x ** 2)) + (4 * x) \n",
    "\n",
    "v = biseccion((3,4), y, 0.0001, 100)\n",
    "v = newtonRaphson(3, y, 0.0001, 100)\n",
    "v"
   ]
  },
  {
   "cell_type": "code",
   "execution_count": 14,
   "metadata": {
    "collapsed": false
   },
   "outputs": [
    {
     "data": {
      "text/plain": [
       "-0.000773312844254548"
      ]
     },
     "execution_count": 14,
     "metadata": {},
     "output_type": "execute_result"
    }
   ],
   "source": [
    "\n",
    "\n",
    "y = -(0.3 * (x ** 4)) + (1.2 * (x ** 3)) - (1.8 * (x ** 2)) + (4 * x) \n",
    "y.evalf(subs={x:3.390320})\n"
   ]
  },
  {
   "cell_type": "code",
   "execution_count": null,
   "metadata": {
    "collapsed": true
   },
   "outputs": [],
   "source": []
  }
 ],
 "metadata": {
  "kernelspec": {
   "display_name": "Python 3",
   "language": "python",
   "name": "python3"
  },
  "language_info": {
   "codemirror_mode": {
    "name": "ipython",
    "version": 3
   },
   "file_extension": ".py",
   "mimetype": "text/x-python",
   "name": "python",
   "nbconvert_exporter": "python",
   "pygments_lexer": "ipython3",
   "version": "3.6.0"
  }
 },
 "nbformat": 4,
 "nbformat_minor": 2
}
