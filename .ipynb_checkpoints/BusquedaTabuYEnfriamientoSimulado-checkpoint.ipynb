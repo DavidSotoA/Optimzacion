{
 "cells": [
  {
   "cell_type": "code",
   "execution_count": 41,
   "metadata": {
    "collapsed": false
   },
   "outputs": [],
   "source": [
    "import random\n",
    "import math\n",
    "#si iteraciones es -1, iterar hasta encontrar una solución\n",
    "#Busqueda Tabu\n",
    "\n",
    "def tabu(time, listaTabu, newTabu):\n",
    "    updateTime = [(_, time - 1) for (_, time) in listaTabu]\n",
    "    filterTime = [(_, time) for (_, time) in updateTime if time > 0]\n",
    "    filterTime.append((newTabu, time))\n",
    "    return filterTime\n",
    "\n",
    "\n",
    "def fitness(x): # se puede mejorar\n",
    "    fit = 0\n",
    "    tam = len(x)\n",
    "    for i in range(tam):\n",
    "        for j in range(i + 1, tam):\n",
    "            vi = x[i]\n",
    "            vj = x[j]\n",
    "            c1, c2 = (math.fabs(vi- vj), math.fabs(i - j))\n",
    "            if c1 == c2:\n",
    "                fit = fit + 1\n",
    "    return fit\n",
    "\n",
    "def permutar(n, cant): #se puede mejorar\n",
    "    candidatos = []\n",
    "    l = []\n",
    "    reinas = [x for x in range(n)]\n",
    "    for i in range(cant):\n",
    "        reinas = set(reinas) - set(l)\n",
    "        p = random.sample(reinas, 2)\n",
    "        candidatos.append((p[0], p[1]))\n",
    "        l = l + p\n",
    "    return candidatos\n",
    "\n",
    "def crearIndividuos(indices, base, tabu_list):\n",
    "    poblacion = []\n",
    "    for index in indices:\n",
    "        isTabu = index in [x[0] for x in tabu_list]\n",
    "        ind  = base[:]\n",
    "        ind[index[0]], ind[index[1]] = ind[index[1]], ind[index[0]]\n",
    "        fit = fitness(ind)\n",
    "        poblacion.append((isTabu, ind, fit, index))\n",
    "    return poblacion\n",
    "\n",
    "def nReinas(n, iteraciones, intercambios, time):\n",
    "    if n<5:\n",
    "        raise(\"n debe ser mayor  5\")\n",
    "    tabu_list = []\n",
    "    x = random.sample(range(n), n)\n",
    "    ind = (False, x, fitness(x), (0, 0))\n",
    "    for i in range(iteraciones):\n",
    "        indexCandidatos = permutar(n, intercambios)\n",
    "        poblacion = crearIndividuos(indexCandidatos, x[0], tabu_list)\n",
    "        poblacion = poblacion.append(x)\n",
    "        best = max(poblacion, key=lambda item:item[2])[2]\n",
    "        l = [a for a in x if a[2] == best and a[0] == False]\n",
    "        if len(l) == 0:\n",
    "            l = [a for a in x if a[2] == best and a[0] == True]\n",
    "        x = l[0]\n",
    "        tabu_list = tabu(time, tabu_list, x[3])"
   ]
  },
  {
   "cell_type": "code",
   "execution_count": 66,
   "metadata": {
    "collapsed": false,
    "scrolled": false
   },
   "outputs": [
    {
     "data": {
      "text/plain": [
       "(False, [1, 4, 6, 2, 7, 8], 4, (5, 3))"
      ]
     },
     "execution_count": 66,
     "metadata": {},
     "output_type": "execute_result"
    }
   ],
   "source": [
    "x = [1,4,6,8,7,2]\n",
    "perm = [(5, 3), (2 ,4), (5, 3)]\n",
    "tabu_l =[((2,4), 3)]\n",
    "\n",
    "x = crearIndividuos(perm, x, tabu_l)\n",
    "m = max(x, key=lambda item:item[2])[2]\n",
    "l = [a for a in x if a[2] == m and a[0] == False]\n",
    "l[0]"
   ]
  },
  {
   "cell_type": "code",
   "execution_count": 39,
   "metadata": {
    "collapsed": true
   },
   "outputs": [],
   "source": [
    "#Enfriamiento simulado"
   ]
  },
  {
   "cell_type": "code",
   "execution_count": 40,
   "metadata": {
    "collapsed": false
   },
   "outputs": [],
   "source": [
    "#Tests"
   ]
  },
  {
   "cell_type": "code",
   "execution_count": 28,
   "metadata": {
    "collapsed": false,
    "scrolled": true
   },
   "outputs": [
    {
     "data": {
      "text/plain": [
       "[[4, 1, 6, 8, 7, 2], [1, 4, 7, 8, 6, 2], [1, 4, 6, 2, 7, 8]]"
      ]
     },
     "execution_count": 28,
     "metadata": {},
     "output_type": "execute_result"
    }
   ],
   "source": [
    "from itertools import combinations\n",
    "import random\n",
    "\n",
    "x = [1,4,6,8,7,2]\n",
    "perm = [(0, 1), (2 ,4), (5, 3)]\n",
    "\n",
    "def crearIndividuos(indices, base):\n",
    "    poblacion = []\n",
    "    for index in indices: \n",
    "        ind  = base[:]\n",
    "        ind[index[0]], ind[index[1]] = ind[index[1]], ind[index[0]]\n",
    "        poblacion.append(ind)\n",
    "    return poblacion\n",
    "\n",
    "\n",
    "crearIndividuo(perm, x)"
   ]
  },
  {
   "cell_type": "code",
   "execution_count": 13,
   "metadata": {
    "collapsed": false
   },
   "outputs": [
    {
     "data": {
      "text/plain": [
       "{2, 3, 5, 6, 7}"
      ]
     },
     "execution_count": 13,
     "metadata": {},
     "output_type": "execute_result"
    }
   ],
   "source": [
    "set([1,2,3,4,5,6,7]) - set([1,4])"
   ]
  },
  {
   "cell_type": "code",
   "execution_count": 30,
   "metadata": {
    "collapsed": false
   },
   "outputs": [
    {
     "data": {
      "text/plain": [
       "[(7, 'sa'), (1, 2, 3, 4)]"
      ]
     },
     "execution_count": 30,
     "metadata": {},
     "output_type": "execute_result"
    }
   ],
   "source": [
    "[(7, \"sa\"), (1,2,3,4)]"
   ]
  },
  {
   "cell_type": "code",
   "execution_count": null,
   "metadata": {
    "collapsed": true
   },
   "outputs": [],
   "source": []
  }
 ],
 "metadata": {
  "kernelspec": {
   "display_name": "Python 3",
   "language": "python",
   "name": "python3"
  },
  "language_info": {
   "codemirror_mode": {
    "name": "ipython",
    "version": 3
   },
   "file_extension": ".py",
   "mimetype": "text/x-python",
   "name": "python",
   "nbconvert_exporter": "python",
   "pygments_lexer": "ipython3",
   "version": "3.6.0"
  }
 },
 "nbformat": 4,
 "nbformat_minor": 2
}
