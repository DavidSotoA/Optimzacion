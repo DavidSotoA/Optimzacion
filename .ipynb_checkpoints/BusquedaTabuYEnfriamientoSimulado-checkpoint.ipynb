{
 "cells": [
  {
   "cell_type": "code",
   "execution_count": 103,
   "metadata": {
    "collapsed": false
   },
   "outputs": [],
   "source": [
    "import random\n",
    "import math\n",
    "#si iteraciones es -1, iterar hasta encontrar una solución\n",
    "#Busqueda Tabu\n",
    "\n",
    "def tabu(time, listaTabu, newTabu):\n",
    "    updateTime = [(_, time - 1) for (_, time) in listaTabu]\n",
    "    filterTime = [(_, time) for (_, time) in updateTime if time > 0]\n",
    "    filterTime.append((newTabu, time))\n",
    "    return filterTime\n",
    "\n",
    "\n",
    "def fitness(x): # se puede mejorar\n",
    "    fit = 0\n",
    "    tam = len(x)\n",
    "    for i in range(tam):\n",
    "        for j in range(i + 1, tam):\n",
    "            vi = x[i]\n",
    "            vj = x[j]\n",
    "            c1, c2 = (math.fabs(vi- vj), math.fabs(i - j))\n",
    "            if c1 == c2:\n",
    "                fit = fit + 1\n",
    "    return fit\n",
    "\n",
    "def existPair(l, x):\n",
    "    exist = False\n",
    "    x1, x2 = x\n",
    "    for pair in l:\n",
    "        p1, p2 = pair\n",
    "        if (p1 == x1 and p2 == x2)  or (p1 == x2 and p2 == x1):\n",
    "            exist = True\n",
    "            break\n",
    "    return exist\n",
    "\n",
    "def permutar(n, cant):\n",
    "    combinacionesPosibles = (n*(n+1)) / 2\n",
    "    if cant > (combinacionesPosibles * 0.5):\n",
    "        raise(\"la cantidad de individuos es demasiado alta\")\n",
    "    candidatos = []\n",
    "    reinas = [x for x in range(n)]\n",
    "    i = 0\n",
    "    while i < cant:\n",
    "        p = random.sample(reinas, 2)\n",
    "        if not existPair(candidatos, p):\n",
    "            candidatos.append((p[0], p[1]))\n",
    "            i = i +1\n",
    "    return candidatos\n",
    "\n",
    "def crearIndividuos(indices, base, tabu_list):\n",
    "    poblacion = []\n",
    "    for index in indices:\n",
    "        isTabu = index in [x[0] for x in tabu_list]\n",
    "        ind  = base[:]\n",
    "        ind[index[0]], ind[index[1]] = ind[index[1]], ind[index[0]]\n",
    "        fit = fitness(ind)\n",
    "        poblacion.append((isTabu, ind, fit, index))\n",
    "    return poblacion\n",
    "\n",
    "def nReinas(n, iteraciones, intercambios, time):\n",
    "    if n < 5:\n",
    "        raise(\"n debe ser mayor  5\")\n",
    "    if iteraciones < -1 or iteraciones == 0:\n",
    "        raise(\"iteraciones debe ser mayor  positivo o -1\")\n",
    "    tabu_list = []\n",
    "    x = random.sample(range(n), n)\n",
    "    ind = (False, x, fitness(x), (0, 0))\n",
    "    i = 0\n",
    "    infinite = False\n",
    "    if iteraciones is -1 : infinite = True\n",
    "    while i < iteraciones or infinite:\n",
    "        #print(i)\n",
    "        indexCandidatos = permutar(n, intercambios)\n",
    "        poblacion = crearIndividuos(indexCandidatos, ind[1], tabu_list)\n",
    "        poblacion.append(ind)\n",
    "        best = min(poblacion, key=lambda item:item[2])[2]\n",
    "        l = [a for a in poblacion if a[2] == best and a[0] == False]\n",
    "        if len(l) == 0:\n",
    "            l = [a for a in poblacion if a[2] == best and a[0] == True]\n",
    "        ind = l[0]\n",
    "        tabu_list = tabu(time, tabu_list, ind[3])\n",
    "        if ind[2] == 0:\n",
    "            break\n",
    "        i = i + 1\n",
    "    return ind"
   ]
  },
  {
   "cell_type": "code",
   "execution_count": 104,
   "metadata": {
    "collapsed": false
   },
   "outputs": [
    {
     "data": {
      "text/plain": [
       "(False,\n",
       " [6,\n",
       "  54,\n",
       "  74,\n",
       "  79,\n",
       "  60,\n",
       "  67,\n",
       "  10,\n",
       "  25,\n",
       "  62,\n",
       "  11,\n",
       "  71,\n",
       "  90,\n",
       "  5,\n",
       "  84,\n",
       "  78,\n",
       "  31,\n",
       "  21,\n",
       "  24,\n",
       "  57,\n",
       "  38,\n",
       "  51,\n",
       "  70,\n",
       "  47,\n",
       "  26,\n",
       "  87,\n",
       "  20,\n",
       "  27,\n",
       "  68,\n",
       "  39,\n",
       "  65,\n",
       "  96,\n",
       "  19,\n",
       "  28,\n",
       "  77,\n",
       "  94,\n",
       "  86,\n",
       "  44,\n",
       "  14,\n",
       "  85,\n",
       "  13,\n",
       "  3,\n",
       "  99,\n",
       "  92,\n",
       "  64,\n",
       "  4,\n",
       "  58,\n",
       "  98,\n",
       "  9,\n",
       "  42,\n",
       "  17,\n",
       "  80,\n",
       "  35,\n",
       "  72,\n",
       "  1,\n",
       "  34,\n",
       "  53,\n",
       "  23,\n",
       "  32,\n",
       "  15,\n",
       "  45,\n",
       "  49,\n",
       "  0,\n",
       "  12,\n",
       "  73,\n",
       "  91,\n",
       "  93,\n",
       "  56,\n",
       "  82,\n",
       "  37,\n",
       "  81,\n",
       "  46,\n",
       "  41,\n",
       "  95,\n",
       "  97,\n",
       "  88,\n",
       "  18,\n",
       "  30,\n",
       "  7,\n",
       "  61,\n",
       "  66,\n",
       "  89,\n",
       "  33,\n",
       "  43,\n",
       "  2,\n",
       "  16,\n",
       "  63,\n",
       "  52,\n",
       "  69,\n",
       "  8,\n",
       "  40,\n",
       "  75,\n",
       "  55,\n",
       "  83,\n",
       "  48,\n",
       "  59,\n",
       "  76,\n",
       "  22,\n",
       "  50,\n",
       "  29,\n",
       "  36],\n",
       " 0,\n",
       " (25, 20))"
      ]
     },
     "execution_count": 104,
     "metadata": {},
     "output_type": "execute_result"
    }
   ],
   "source": [
    "nReinas(100, 1000, 50, 10)"
   ]
  },
  {
   "cell_type": "code",
   "execution_count": 85,
   "metadata": {
    "collapsed": false,
    "scrolled": false
   },
   "outputs": [
    {
     "data": {
      "text/plain": [
       "(False, [1, 4, 6, 2, 7, 8], 4, (5, 3))"
      ]
     },
     "execution_count": 85,
     "metadata": {},
     "output_type": "execute_result"
    }
   ],
   "source": [
    "x = [1,4,6,8,7,2]\n",
    "perm = [(5, 3), (2 ,4), (5, 3)]\n",
    "tabu_l =[((2,4), 3)]\n",
    "\n",
    "x = crearIndividuos(perm, x, tabu_l)\n",
    "m = max(x, key=lambda item:item[2])[2]\n",
    "l = [a for a in x if a[2] == m and a[0] == False]\n",
    "l[0]"
   ]
  },
  {
   "cell_type": "code",
   "execution_count": 39,
   "metadata": {
    "collapsed": true
   },
   "outputs": [],
   "source": [
    "#Enfriamiento simulado"
   ]
  },
  {
   "cell_type": "code",
   "execution_count": 40,
   "metadata": {
    "collapsed": false
   },
   "outputs": [],
   "source": [
    "#Tests"
   ]
  },
  {
   "cell_type": "code",
   "execution_count": 28,
   "metadata": {
    "collapsed": false,
    "scrolled": true
   },
   "outputs": [
    {
     "data": {
      "text/plain": [
       "[[4, 1, 6, 8, 7, 2], [1, 4, 7, 8, 6, 2], [1, 4, 6, 2, 7, 8]]"
      ]
     },
     "execution_count": 28,
     "metadata": {},
     "output_type": "execute_result"
    }
   ],
   "source": [
    "from itertools import combinations\n",
    "import random\n",
    "\n",
    "x = [1,4,6,8,7,2]\n",
    "perm = [(0, 1), (2 ,4), (5, 3)]\n",
    "\n",
    "def crearIndividuos(indices, base):\n",
    "    poblacion = []\n",
    "    for index in indices: \n",
    "        ind  = base[:]\n",
    "        ind[index[0]], ind[index[1]] = ind[index[1]], ind[index[0]]\n",
    "        poblacion.append(ind)\n",
    "    return poblacion\n",
    "\n",
    "\n",
    "crearIndividuo(perm, x)"
   ]
  },
  {
   "cell_type": "code",
   "execution_count": 100,
   "metadata": {
    "collapsed": false
   },
   "outputs": [
    {
     "name": "stdout",
     "output_type": "stream",
     "text": [
      "27.5\n"
     ]
    },
    {
     "ename": "TypeError",
     "evalue": "exceptions must derive from BaseException",
     "output_type": "error",
     "traceback": [
      "\u001b[0;31m--------------------------------------------------------------------------\u001b[0m",
      "\u001b[0;31mTypeError\u001b[0m                                Traceback (most recent call last)",
      "\u001b[0;32m<ipython-input-100-8532185ef933>\u001b[0m in \u001b[0;36m<module>\u001b[0;34m()\u001b[0m\n\u001b[1;32m     24\u001b[0m     \u001b[0;32mreturn\u001b[0m \u001b[0mcandidatos\u001b[0m\u001b[0;34m\u001b[0m\u001b[0m\n\u001b[1;32m     25\u001b[0m \u001b[0;34m\u001b[0m\u001b[0m\n\u001b[0;32m---> 26\u001b[0;31m \u001b[0mpermutar\u001b[0m\u001b[0;34m(\u001b[0m\u001b[0;36m10\u001b[0m\u001b[0;34m,\u001b[0m \u001b[0;36m28\u001b[0m\u001b[0;34m)\u001b[0m\u001b[0;34m\u001b[0m\u001b[0m\n\u001b[0m",
      "\u001b[0;32m<ipython-input-100-8532185ef933>\u001b[0m in \u001b[0;36mpermutar\u001b[0;34m(n, cant)\u001b[0m\n\u001b[1;32m     13\u001b[0m     \u001b[0mprint\u001b[0m\u001b[0;34m(\u001b[0m\u001b[0mstr\u001b[0m\u001b[0;34m(\u001b[0m\u001b[0mcombinacionesPosibles\u001b[0m\u001b[0;34m*\u001b[0m \u001b[0;36m0.5\u001b[0m\u001b[0;34m)\u001b[0m\u001b[0;34m)\u001b[0m\u001b[0;34m\u001b[0m\u001b[0m\n\u001b[1;32m     14\u001b[0m     \u001b[0;32mif\u001b[0m \u001b[0mcant\u001b[0m \u001b[0;34m>\u001b[0m \u001b[0;34m(\u001b[0m\u001b[0mcombinacionesPosibles\u001b[0m \u001b[0;34m*\u001b[0m \u001b[0;36m0.5\u001b[0m\u001b[0;34m)\u001b[0m\u001b[0;34m:\u001b[0m\u001b[0;34m\u001b[0m\u001b[0m\n\u001b[0;32m---> 15\u001b[0;31m         \u001b[0;32mraise\u001b[0m\u001b[0;34m(\u001b[0m\u001b[0;34m\"la cantidad de individuos es demasiado alta\"\u001b[0m\u001b[0;34m)\u001b[0m\u001b[0;34m\u001b[0m\u001b[0m\n\u001b[0m\u001b[1;32m     16\u001b[0m     \u001b[0mcandidatos\u001b[0m \u001b[0;34m=\u001b[0m \u001b[0;34m[\u001b[0m\u001b[0;34m]\u001b[0m\u001b[0;34m\u001b[0m\u001b[0m\n\u001b[1;32m     17\u001b[0m     \u001b[0mreinas\u001b[0m \u001b[0;34m=\u001b[0m \u001b[0;34m[\u001b[0m\u001b[0mx\u001b[0m \u001b[0;32mfor\u001b[0m \u001b[0mx\u001b[0m \u001b[0;32min\u001b[0m \u001b[0mrange\u001b[0m\u001b[0;34m(\u001b[0m\u001b[0mn\u001b[0m\u001b[0;34m)\u001b[0m\u001b[0;34m]\u001b[0m\u001b[0;34m\u001b[0m\u001b[0m\n",
      "\u001b[0;31mTypeError\u001b[0m: exceptions must derive from BaseException"
     ]
    }
   ],
   "source": [
    "def existPair(l, x):\n",
    "    exist = False\n",
    "    x1, x2 = x\n",
    "    for pair in l:\n",
    "        p1, p2 = pair\n",
    "        if (p1 == x1 and p2 == x2)  or (p1 == x2 and p2 == x1):\n",
    "            exist = True\n",
    "            break\n",
    "    return exist\n",
    "\n",
    "def permutar(n, cant):\n",
    "    combinacionesPosibles = (n*(n+1)) / 2\n",
    "    if cant > (combinacionesPosibles * 0.5):\n",
    "        raise(\"la cantidad de individuos es demasiado alta\")\n",
    "    candidatos = []\n",
    "    reinas = [x for x in range(n)]\n",
    "    i = 0\n",
    "    while i < cant:\n",
    "        p = random.sample(reinas, 2)\n",
    "        if not existPair(candidatos, p):\n",
    "            candidatos.append((p[0], p[1]))\n",
    "            i = i +1\n",
    "    return candidatos\n",
    "\n",
    "permutar(10, 28)"
   ]
  },
  {
   "cell_type": "code",
   "execution_count": 30,
   "metadata": {
    "collapsed": false
   },
   "outputs": [
    {
     "data": {
      "text/plain": [
       "[(7, 'sa'), (1, 2, 3, 4)]"
      ]
     },
     "execution_count": 30,
     "metadata": {},
     "output_type": "execute_result"
    }
   ],
   "source": [
    "[(7, \"sa\"), (1,2,3,4)]"
   ]
  },
  {
   "cell_type": "code",
   "execution_count": null,
   "metadata": {
    "collapsed": true
   },
   "outputs": [],
   "source": []
  }
 ],
 "metadata": {
  "kernelspec": {
   "display_name": "Python 3",
   "language": "python",
   "name": "python3"
  },
  "language_info": {
   "codemirror_mode": {
    "name": "ipython",
    "version": 3
   },
   "file_extension": ".py",
   "mimetype": "text/x-python",
   "name": "python",
   "nbconvert_exporter": "python",
   "pygments_lexer": "ipython3",
   "version": "3.6.0"
  }
 },
 "nbformat": 4,
 "nbformat_minor": 2
}
