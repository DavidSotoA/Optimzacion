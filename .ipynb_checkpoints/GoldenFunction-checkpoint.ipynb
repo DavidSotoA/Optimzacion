{
 "cells": [
  {
   "cell_type": "code",
   "execution_count": 42,
   "metadata": {
    "collapsed": false
   },
   "outputs": [],
   "source": [
    "import pandas as pd\n",
    "import numpy as np\n",
    "import math as m\n",
    "import urllib.parse, base64\n",
    "from IPython.display import display, HTML\n",
    "from io import StringIO, BytesIO\n",
    "\n",
    "\n",
    "import matplotlib.pyplot as plt\n",
    "\n",
    "\n",
    "highGoldenRatio = 1.6180339\n",
    "lowGoldenRatio = 0.618\n",
    "\n",
    "\n",
    "\"\"\"Para probar llamar al método optimization\n",
    "        \n",
    "        threshold: tupla con el limite minimo y maximo (en ese orden).\n",
    "        f: funcion a optimizar.\n",
    "        epsilon: parametro de parada.\n",
    "        numIterations: numero maximo de iteraciones.\n",
    "        goldenRatio: indica el valor que tomara la razon dorada, usar 0 para 0.618 o 1 para 1.6180339.\n",
    "        method: indica si se encontrara el minimo o el maximo de la función, usar 0 o 1 respectivamente.\n",
    "        \"\"\"\n",
    "\n",
    "def goldenFunction(threshold, f, epsilon, numIterations, goldenRatio, method):\n",
    "    values = pd.DataFrame(columns=('xl', 'xu', 'x1', 'x2', 'f(xl)', 'f(xu)', 'f(x1)', 'f(x2)'))\n",
    "    xl = threshold[0]\n",
    "    xu = threshold[1]\n",
    "    error = 1000\n",
    "    i = 0\n",
    "    while((i < numIterations) and (error > epsilon)):\n",
    "        if goldenRatio == 0:\n",
    "            d = lowGoldenRatio * (xu - xl)\n",
    "            x1 = xl + d\n",
    "            x2 = xu - d\n",
    "        else:\n",
    "            x1 = xl + (xu - xl) / (1 - highGoldenRatio)\n",
    "            x2 = xl + (xu - x1)\n",
    "\n",
    "        raw_data = {'f(x)':[f(xl), f(xu), f(x1), f(x2)], 'X': [xl, xu, x1, x2]}\n",
    "        updateValues = pd.DataFrame(raw_data, columns = ['f(x)', 'X'])\n",
    "        if(method == 1):\n",
    "            updateValues = updateValues.sort_values(['f(x)'], ascending=[False]).head(3)\n",
    "        else:\n",
    "            updateValues = updateValues.sort_values(['f(x)'], ascending=[True]).head(3)\n",
    "        xl = updateValues[['X']].values.min()\n",
    "        xu = updateValues[['X']].values.max()\n",
    "        \n",
    "        values.loc[len(values)] = [xl, xu, x1, x2, f(xl), f(xu), f(x1), f(x2)]\n",
    "        error = m.fabs(xl-xu)\n",
    "        i = i + 1\n",
    "    return values\n",
    "        \n",
    "def optimalValue(method, valuesDF, f):\n",
    "    optimalValues = valuesDF.loc[len(valuesDF) -1]\n",
    "    optimalValues = optimalValues[['xl', 'xu']].values\n",
    "    evaluateOptimalValues = list(map(f, optimalValues))\n",
    "    if(method ==0):\n",
    "        return optimalValues[evaluateOptimalValues.index(min(evaluateOptimalValues))]\n",
    "    return optimalValues[evaluateOptimalValues.index(max(evaluateOptimalValues))]  \n",
    "\n",
    "def optimization(threshold, f, epsilon, numIterations, goldenRatio, method):\n",
    "    values = goldenFunction(threshold, f, epsilon, numIterations, goldenRatio, method)\n",
    "    v = optimalValue(method, values, f)\n",
    "    \n",
    "    t1 = np.arange(threshold[0] - 0.1, threshold[1] + .1, 0.1)\n",
    "    markers_on = [v * 10]\n",
    "    plt.figure(1)\n",
    "    plt.plot(t1, myfunc(t1), '-gD', markevery=markers_on)\n",
    "    fig = plt.gcf()\n",
    "    imgdata = BytesIO()\n",
    "    fig.savefig(imgdata, format='png')\n",
    "    imgdata.seek(0)  # rewind the data\n",
    "\n",
    "    \n",
    "    uri = 'data:image/png;base64,' + urllib.quote(base64.b64encode(imgdata.buf))\n",
    "\n",
    "    return HTML(\"\"\"\"<h1 style=\"color:red;\" align=\"center\">Funcion dorada</h1>\n",
    "        <h2>Historial</h2>\n",
    "        \"\"\" + values.to_html() + \"\"\"\n",
    "        <h2>Valor optimo</h2>\n",
    "        <p>\"\"\" + str(v) + \"\"\"<img src = \"\"\" + uri\n",
    "        )\n",
    "\n",
    "\n",
    "    "
   ]
  },
  {
   "cell_type": "code",
   "execution_count": 43,
   "metadata": {
    "collapsed": false
   },
   "outputs": [
    {
     "name": "stderr",
     "output_type": "stream",
     "text": [
      "/home/skorpionx/anaconda3/lib/python3.6/site-packages/matplotlib/lines.py:223: VisibleDeprecationWarning: non integer (and non boolean) array-likes will not be accepted as indices in the future\n",
      "  return Path(verts[markevery],\n"
     ]
    },
    {
     "ename": "AttributeError",
     "evalue": "module 'urllib' has no attribute 'quote'",
     "output_type": "error",
     "traceback": [
      "\u001b[0;31m---------------------------------------------------------------------------\u001b[0m",
      "\u001b[0;31mAttributeError\u001b[0m                            Traceback (most recent call last)",
      "\u001b[0;32m<ipython-input-43-c1f2c9e370dc>\u001b[0m in \u001b[0;36m<module>\u001b[0;34m()\u001b[0m\n\u001b[1;32m      2\u001b[0m     \u001b[0;32mreturn\u001b[0m \u001b[0;34m-\u001b[0m\u001b[0mx\u001b[0m\u001b[0;34m**\u001b[0m\u001b[0;36m2\u001b[0m\u001b[0;34m+\u001b[0m\u001b[0;36m8\u001b[0m\u001b[0;34m*\u001b[0m\u001b[0mx\u001b[0m\u001b[0;34m-\u001b[0m\u001b[0;36m12\u001b[0m\u001b[0;34m\u001b[0m\u001b[0m\n\u001b[1;32m      3\u001b[0m \u001b[0;34m\u001b[0m\u001b[0m\n\u001b[0;32m----> 4\u001b[0;31m \u001b[0moptimization\u001b[0m\u001b[0;34m(\u001b[0m\u001b[0;34m(\u001b[0m\u001b[0;36m0\u001b[0m\u001b[0;34m,\u001b[0m\u001b[0;36m6\u001b[0m\u001b[0;34m)\u001b[0m\u001b[0;34m,\u001b[0m \u001b[0mmyfunc\u001b[0m\u001b[0;34m,\u001b[0m \u001b[0;36m0.1\u001b[0m\u001b[0;34m,\u001b[0m \u001b[0;36m20\u001b[0m\u001b[0;34m,\u001b[0m \u001b[0;36m0\u001b[0m\u001b[0;34m,\u001b[0m \u001b[0;36m1\u001b[0m\u001b[0;34m)\u001b[0m\u001b[0;34m\u001b[0m\u001b[0m\n\u001b[0m",
      "\u001b[0;32m<ipython-input-42-e4b0719cd5ae>\u001b[0m in \u001b[0;36moptimization\u001b[0;34m(threshold, f, epsilon, numIterations, goldenRatio, method)\u001b[0m\n\u001b[1;32m     74\u001b[0m \u001b[0;34m\u001b[0m\u001b[0m\n\u001b[1;32m     75\u001b[0m \u001b[0;34m\u001b[0m\u001b[0m\n\u001b[0;32m---> 76\u001b[0;31m     \u001b[0muri\u001b[0m \u001b[0;34m=\u001b[0m \u001b[0;34m'data:image/png;base64,'\u001b[0m \u001b[0;34m+\u001b[0m \u001b[0murllib\u001b[0m\u001b[0;34m.\u001b[0m\u001b[0mquote\u001b[0m\u001b[0;34m(\u001b[0m\u001b[0mbase64\u001b[0m\u001b[0;34m.\u001b[0m\u001b[0mb64encode\u001b[0m\u001b[0;34m(\u001b[0m\u001b[0mimgdata\u001b[0m\u001b[0;34m.\u001b[0m\u001b[0mbuf\u001b[0m\u001b[0;34m)\u001b[0m\u001b[0;34m)\u001b[0m\u001b[0;34m\u001b[0m\u001b[0m\n\u001b[0m\u001b[1;32m     77\u001b[0m \u001b[0;34m\u001b[0m\u001b[0m\n\u001b[1;32m     78\u001b[0m     return HTML(\"\"\"\"<h1 style=\"color:red;\" align=\"center\">Funcion dorada</h1>\n",
      "\u001b[0;31mAttributeError\u001b[0m: module 'urllib' has no attribute 'quote'"
     ]
    }
   ],
   "source": [
    "def myfunc(x):\n",
    "    return -x**2+8*x-12\n",
    "\n",
    "optimization((0,6), myfunc, 0.1, 20, 0, 1)"
   ]
  },
  {
   "cell_type": "code",
   "execution_count": null,
   "metadata": {
    "collapsed": true
   },
   "outputs": [],
   "source": []
  }
 ],
 "metadata": {
  "kernelspec": {
   "display_name": "Python 3",
   "language": "python",
   "name": "python3"
  },
  "language_info": {
   "codemirror_mode": {
    "name": "ipython",
    "version": 3
   },
   "file_extension": ".py",
   "mimetype": "text/x-python",
   "name": "python",
   "nbconvert_exporter": "python",
   "pygments_lexer": "ipython3",
   "version": "3.6.0"
  }
 },
 "nbformat": 4,
 "nbformat_minor": 2
}
