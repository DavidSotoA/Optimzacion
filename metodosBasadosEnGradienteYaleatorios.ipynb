{
 "cells": [
  {
   "cell_type": "code",
   "execution_count": 1,
   "metadata": {
    "collapsed": true
   },
   "outputs": [],
   "source": [
    "from sympy import symbols, diff, solve, Transpose, Integer\n",
    "import numpy as np\n",
    "import pandas as pd\n",
    "import decimal\n",
    "import fractions\n",
    "from sympy.matrices import *\n",
    "import random as random\n",
    "import math as m\n",
    "from IPython.display import display, HTML"
   ]
  },
  {
   "cell_type": "code",
   "execution_count": 2,
   "metadata": {
    "collapsed": false,
    "scrolled": true
   },
   "outputs": [],
   "source": [
    "def matrizJacobiana(f, variables):\n",
    "    jacobiana = []\n",
    "    for i in range(0,len(variables)):\n",
    "        jacobiana.append(diff(f, variables[i]))\n",
    "    return jacobiana\n",
    "\n",
    "def matrizJacobianaDic(f, variables):\n",
    "    jacobiana = {}\n",
    "    i = 0\n",
    "    for v in variables:\n",
    "        jacobiana[v] = diff(f, variables[i])\n",
    "        i = i + 1\n",
    "    return jacobiana\n",
    "\n",
    "def matrizHessiana(f, variables):\n",
    "    hessiana = []\n",
    "    for fi in f:\n",
    "        hessiana.append(matrizJacobiana(fi, variables))\n",
    "    return hessiana\n",
    "    \n",
    "def createVariableDictionary(variables):\n",
    "    result = {}\n",
    "    for v in variables:\n",
    "        result[v] = 0\n",
    "    return result\n",
    "\n",
    "def matToDic(mat, variables):\n",
    "    ml = mat.tolist()\n",
    "    dic = {}\n",
    "    i = 0\n",
    "    for var in variables:\n",
    "        dic[var] = ml[i][0]\n",
    "        i = i +1\n",
    "    return dic\n",
    "    \n",
    "def generateRandomPointInLimits(variables, limits):\n",
    "    result = createVariableDictionary(variables)\n",
    "    for j in range(0, len(variables)):\n",
    "        result[limits[j][0]] = limits[j][1] + (limits[j][2] - limits[j][1])*random.uniform(0, 1)\n",
    "    return result.copy()\n",
    "\n",
    "def createMats(functions, variables, initPoint):\n",
    "    A = list()\n",
    "    b = list()\n",
    "    x = list(initPoint.values())\n",
    "    for function in functions:\n",
    "        coefs = list()\n",
    "        if (isinstance(function, Integer)):\n",
    "            b.append(function)\n",
    "        else:\n",
    "            if not(isinstance(function.args[0], Integer)):\n",
    "                b.append(0)\n",
    "            else:\n",
    "                b.append(function.args[0])\n",
    "        for v in variables:\n",
    "            coefs.append(function.coeff(v))\n",
    "        A.append(coefs)\n",
    "    return (Matrix(A), Transpose(Matrix([b])), Transpose(Matrix([x])))"
   ]
  },
  {
   "cell_type": "code",
   "execution_count": 3,
   "metadata": {
    "collapsed": false
   },
   "outputs": [],
   "source": [
    "def randomSearch(f, variables, limits, iteraciones, metodo, epsilon):\n",
    "    maxF = \"init\"\n",
    "    error = \"init\"\n",
    "    i = 0\n",
    "    result = createVariableDictionary(variables)\n",
    "    values = pd.DataFrame(columns=('x_v', 'f(x_v)'))\n",
    "    while ((i < iteraciones) and (error == \"init\" or error > epsilon)):\n",
    "        result = generateRandomPointInLimits(variables, limits)\n",
    "        fn = f.evalf(subs=result)\n",
    "        if (maxF == \"init\") or (((fn > maxF) and (metodo == \"maximo\")) or ((fn < maxF) and (metodo == \"minimo\"))):\n",
    "            if (maxF is not \"init\"):\n",
    "                error = m.fabs(fn - maxF)\n",
    "            maxF = fn\n",
    "            maxResults = result.copy()\n",
    "        values.loc[len(values)] = [maxResults, maxF]\n",
    "        i = i + 1\n",
    "    return (maxResults,values)"
   ]
  },
  {
   "cell_type": "code",
   "execution_count": 4,
   "metadata": {
    "collapsed": false
   },
   "outputs": [],
   "source": [
    "h = symbols('h')\n",
    "    \n",
    "def funcGradiente(a, dx, metodo):\n",
    "    if (metodo == \"maximo\"):\n",
    "        return a + dx*h\n",
    "    elif (metodo == \"minimo\"):\n",
    "        return a - dx*h\n",
    "    \n",
    "def gradienteFijo(f, variables, limits, metodo):\n",
    "    mJ = matrizJacobiana(f, variables)\n",
    "    mH = matrizHessiana(mJ, variables)\n",
    "    solucion = solve(mJ, dict=True)\n",
    "    determinante = Matrix(mH).det()\n",
    "    values = pd.DataFrame(columns=('x_v', 'f(x_v)'))\n",
    "    if (determinante >= 0) and ((mH[0][0] >= 0 and metodo is \"minimo\") or (mH[0][0] <= 0 and metodo is \"maximo\")):\n",
    "        isInIntervale = True\n",
    "        for myLimits in limits:\n",
    "            mySolution = solucion[0].get(myLimits[0])\n",
    "            if not(myLimits[1]<=mySolution<=myLimits[2]):\n",
    "                isInIntervale = False\n",
    "                break\n",
    "        if isInIntervale:\n",
    "            values.loc[len(values)] = [solucion[0], f.evalf(subs=solucion[0])]\n",
    "            return solucion[0]\n",
    "    return solucion[0]\n",
    "\n",
    "def gradienteAdaptativoMetodo1(f, variables, limits, iteraciones, metodo, epsilon, initPoint):\n",
    "    result = initPoint\n",
    "    mJ = matrizJacobianaDic(f, variables)\n",
    "    f_x0 = f.evalf(subs=result)\n",
    "    error = \"init\"\n",
    "    f_d = {}\n",
    "    i = 0\n",
    "    values = pd.DataFrame(columns=('x_v', 'f(x_v)'))\n",
    "    while (i < iteraciones) and ( (error is \"init\") or (error > epsilon) ):\n",
    "        for v in variables:\n",
    "            f_d[v] = funcGradiente(result[v], mJ[v].evalf(subs=result), metodo)\n",
    "        g = f.subs(f_d)\n",
    "        val_h , resp = randomSearch(g, (h, ), [[h,-10,10]], 1000, metodo, 0.01)\n",
    "        for v in variables:\n",
    "            result[v] = f_d[v].evalf(subs=val_h)\n",
    "        f_x1 = f.evalf(subs=result)\n",
    "        error = m.fabs(f_x1 - f_x0)\n",
    "        f_x0 = f_x1\n",
    "        values.loc[len(values)] = [result.copy(), f_x0]\n",
    "        i = i +1\n",
    "    return (result, values)\n",
    "    \n",
    "def gradienteDescendente(f, variables, limits, iteraciones, metodo, epsilon, tasa, initPoint):\n",
    "    result = initPoint\n",
    "    mJ = matrizJacobianaDic(f, variables)\n",
    "    f_x0 = f.evalf(subs=result)\n",
    "    error = \"init\"\n",
    "    i = 0\n",
    "    values = pd.DataFrame(columns=('x_v', 'f(x_v)'))\n",
    "    while (i < iteraciones) and ( (error is \"init\") or (error > epsilon) ):\n",
    "        for v in variables:\n",
    "            result[v] = funcGradiente(result[v], mJ[v].evalf(subs=result), metodo).evalf(subs={h: tasa})\n",
    "        f_x1 = f.evalf(subs=result)\n",
    "        error = m.fabs(f_x1 - f_x0)\n",
    "        f_x0 = f_x1\n",
    "        values.loc[len(values)] = [result.copy(), f_x0]\n",
    "        i = i+1\n",
    "    return (result, values)\n",
    "\n",
    "def gradienteConjugado(f, variables, limits, iteraciones, metodo, epsilon, initPoint):\n",
    "    mJ = matrizJacobiana(f, variables)\n",
    "    A, b, x = createMats(mJ, variables, initPoint)\n",
    "    r_0 = b - A*x\n",
    "    p = r_0\n",
    "    k = 0\n",
    "    values = pd.DataFrame(columns=('x_v', 'f(x_v)'))\n",
    "    for i in range(0, iteraciones):\n",
    "        alfa = (Transpose(r_0)*r_0)[0]/(Transpose(p)*A*p)[0]\n",
    "        x = x - alfa*p\n",
    "        r_1 = r_0 - alfa*A*p\n",
    "        error = (Transpose(r_1) * r_1)[0]\n",
    "        varInDic = matToDic(x, variables)\n",
    "        values.loc[len(values)] = [varInDic, f.evalf(subs=varInDic)]\n",
    "        if error < epsilon:\n",
    "            return (x, values)\n",
    "        b = (Transpose(r_1)*r_1)[0]/(Transpose(r_0)*r_0)[0]\n",
    "        p = r_1 + b*p\n",
    "        r_0 = r_1\n",
    "    return (x, values)"
   ]
  },
  {
   "cell_type": "code",
   "execution_count": 5,
   "metadata": {
    "collapsed": false
   },
   "outputs": [],
   "source": [
    "def optimization(f, variables, limits, iteraciones, metodo, epsilon, optimFunc, tasa):\n",
    "    initPoint = generateRandomPointInLimits(variables, limits)\n",
    "    if(optimFunc == \"gradienteDescendente\"):\n",
    "        return gradienteDescendente(f, variables, limits, iteraciones, metodo, epsilon, tasa, initPoint)\n",
    "    if(optimFunc == \"gradienteAdaptativoMetodo1\"):\n",
    "        return gradienteAdaptativoMetodo1(f, variables, limits, iteraciones, metodo, epsilon, initPoint)\n",
    "    if(optimFunc == \"gradienteConjugado\"):\n",
    "        return gradienteConjugado(f, variables, limits, iteraciones, metodo, epsilon, initPoint)\n",
    "    if(optimFunc == \"randomSearch\"):\n",
    "        return randomSearch(f, variables, limits, iteraciones, metodo, epsilon)"
   ]
  },
  {
   "cell_type": "code",
   "execution_count": 6,
   "metadata": {
    "collapsed": false
   },
   "outputs": [],
   "source": [
    "def evalOptimizationFunctions(f, variables, limits, iteraciones, metodo, epsilon, tasa):\n",
    "    results = list()\n",
    "    #for function in functions:\n",
    "    #evaluacion de metodos basados en gradiente\n",
    "    resp1, table1 = optimization(f, variables, limits, iteraciones, metodo, epsilon, \"gradienteDescendente\", tasa)\n",
    "    resp2, table2 = optimization(f, variables, limits, iteraciones, metodo, epsilon, \"gradienteAdaptativoMetodo1\", tasa)\n",
    "    resp3, table3 = optimization(f, variables, limits, iteraciones, metodo, epsilon, \"gradienteConjugado\", tasa)\n",
    "    #evaluacion de metodos no basados en gradiente\n",
    "    folds = 5\n",
    "    return pd.concat([table1, table2, table3], axis=1)"
   ]
  },
  {
   "cell_type": "code",
   "execution_count": 70,
   "metadata": {
    "collapsed": false
   },
   "outputs": [
    {
     "data": {
      "text/plain": [
       "{x: -1.00991281963696,\n",
       " y: 2.59540861907851,\n",
       " z: -0.600000011440235,\n",
       " w: 0.750000000128262,\n",
       " v: 1.45354871730309}"
      ]
     },
     "execution_count": 70,
     "metadata": {},
     "output_type": "execute_result"
    }
   ],
   "source": [
    "x, y, z, w, v= symbols('x y z w v', real=True)\n",
    "f1 = x**2+x+2*y**2+3*z**2\n",
    "f2 = x**2+y**2+5*z**2+x*2-5*y+6*z+6\n",
    "f3 = x**2+y**2+5*z**2+x*2-5*y+6*z+6*w**2-9*w+v**2-3*v\n",
    "\n",
    "#result = gradienteFijo(f5, (x,), [[x,-10,10]], \"maximo\")\n",
    "#result, df = randomSearch(f3, (x,y), [[x, -2, 2],[y, -2, 2]], 1000, \"maximo\", 0.01)\n",
    "#dk = gradienteAdaptativoMetodo1(f1, (x,), [[x, -2, 2]], 1000, \"minimo\", 0.001)\n",
    "#resp1, v1 = gradienteAdaptativoMetodo1(f3, (x,y), [[x, -2, 2],[y, -2, 2]], 10, \"maximo\", 0.01)\n",
    "#resp2, v2 = gradienteDescendente(f3, (x,y), [[x, -2, 2],[y, -2, 2]], 100, \"maximo\", 0.001, 0.2)\n",
    "#resp, v = gradienteDescendente(f5, (x,), [[x, -10, 10]], 100, \"maximo\", 0.001, 0.07)\n",
    "\n",
    "resp, gf= optimization(f3, (x,y,z,w,v), [[x,-2, 5],[y, -2, 5],[z, -2, 5],[w, -2, 5],[v, -2, 5] ], 1000, \"minimo\", 0.001, \"gradienteDescendente\", 0.02)\n",
    "#x = evalOptimizationFunctions(f1, (x,y,z), [[x, -2, 2],[y, -2, 2], [z, -10 , 10]], 100, \"minimo\", 0.001, 0.2)\n",
    "#result = gradienteFijo(f1, (x,), [[x, -2, 2],[y, -2, 2]], \"maximo\")\n",
    "#resp\n",
    "resp"
   ]
  },
  {
   "cell_type": "code",
   "execution_count": 288,
   "metadata": {
    "collapsed": false
   },
   "outputs": [
    {
     "name": "stdout",
     "output_type": "stream",
     "text": [
      "-x + 2*y\n",
      "-x + 34*y + 5\n"
     ]
    },
    {
     "data": {
      "text/plain": [
       "(Matrix([\n",
       " [-1,  2],\n",
       " [-1, 34]]),\n",
       " Matrix([[0, 5]])',\n",
       " Matrix([[0.765033926617669, -3.7847702754737]])')"
      ]
     },
     "execution_count": 288,
     "metadata": {},
     "output_type": "execute_result"
    }
   ],
   "source": [
    "{x: 1.9527794011362902, y: 3.0629671543433807, z: 2.2578822907125544}\n",
    "from sympy import MatrixSymbol, Transpose, Integer\n",
    "\n",
    "\n",
    "x, y= symbols('x y', real=True)\n",
    "\n",
    "f = - 7*y + 4*x**2 + 2*y**2 + 6*x\n",
    "\n",
    "mJ = matrizJacobiana(f, (x, y))\n",
    "a = (x, y)\n",
    "d = generateRandomPointInLimits(a, [[x,-2,6], [y,-8,4]])\n",
    "\n",
    "def c(functions, variables, initPoint):\n",
    "    A = list()\n",
    "    b = list()\n",
    "    x = list(initPoint.values())\n",
    "    for function in functions:\n",
    "        print(function)\n",
    "        coefs = list()\n",
    "        if not(isinstance(function.args[0], Integer)):\n",
    "            b.append(0)\n",
    "        else:\n",
    "            b.append(function.args[0])\n",
    "        for v in a:\n",
    "            coefs.append(function.coeff(v))\n",
    "        A.append(coefs)\n",
    "    return (Matrix(A), Transpose(Matrix([b])), Transpose(Matrix([x])))\n",
    "\n",
    "g = -x + 2*y\n",
    "h = -x + 34*y + 5\n",
    "c([-x + 2*y, -x + 34*y + 5], a, d)\n",
    "\n",
    "\n"
   ]
  },
  {
   "cell_type": "code",
   "execution_count": 78,
   "metadata": {
    "collapsed": false
   },
   "outputs": [
    {
     "name": "stdout",
     "output_type": "stream",
     "text": [
      "[2*x + 1, 4*y, 6*z]\n",
      "2*x + 1\n",
      "(1, 2*x)\n",
      "4*y\n",
      "(4, y)\n",
      "6*z\n",
      "(6, z)\n"
     ]
    },
    {
     "data": {
      "text/plain": [
       "(Matrix([\n",
       " [2, 0, 0],\n",
       " [0, 4, 0],\n",
       " [0, 0, 6]]),\n",
       " Matrix([[1, 4, 6]])',\n",
       " Matrix([[0.940495073747731, 0.396335218091814, 1.79936808656369]])')"
      ]
     },
     "execution_count": 78,
     "metadata": {},
     "output_type": "execute_result"
    }
   ],
   "source": [
    "a= symbols('x y z', real=True)\n",
    "x, y, z = a\n",
    "f1 = x**2+x+2*y**2+3*z**2\n",
    "mJ = matrizJacobiana(f1,a)\n",
    "\n",
    "def createMats(functions, variables, initPoint):\n",
    "    A = list()\n",
    "    b = list()\n",
    "    x = list(initPoint.values())\n",
    "    for function in functions:\n",
    "        coefs = list()\n",
    "        print(function)\n",
    "        print(function.args)\n",
    "        if (isinstance(function, Integer)):\n",
    "            b.append(function)\n",
    "        else:\n",
    "            if not(isinstance(function.args[0], Integer)):\n",
    "                b.append(0)\n",
    "            else:\n",
    "                b.append(function.args[0])\n",
    "        for v in variables:\n",
    "            coefs.append(function.coeff(v))\n",
    "        A.append(coefs)\n",
    "    return (Matrix(A), Transpose(Matrix([b])), Transpose(Matrix([x])))\n",
    "\n",
    "print(mJ)\n",
    "initPoint = generateRandomPointInLimits(variables, [[x, -2, 2],[y, -2, 2], [z, -10 , 10]])\n",
    "createMats(mJ, a, initPoint)\n",
    "\n"
   ]
  },
  {
   "cell_type": "code",
   "execution_count": 91,
   "metadata": {
    "collapsed": false
   },
   "outputs": [
    {
     "data": {
      "text/plain": [
       "{x: 0.666666666666667, y: 0.333333333333333}"
      ]
     },
     "execution_count": 91,
     "metadata": {},
     "output_type": "execute_result"
    }
   ],
   "source": [
    "x = Matrix([\n",
    "[2/3],\n",
    "[1/3]])\n",
    "variables = symbols('x y', real=True)\n",
    "\n",
    "def matToDic(mat, variables):\n",
    "    ml = x.tolist()\n",
    "    dic = {}\n",
    "    i = 0\n",
    "    for var in variables:\n",
    "        dic[var] = ml[i][0]\n",
    "        i = i +1\n",
    "    return dic\n",
    "\n",
    "matToDic(x,variables)"
   ]
  },
  {
   "cell_type": "code",
   "execution_count": 185,
   "metadata": {
    "collapsed": false,
    "scrolled": true
   },
   "outputs": [
    {
     "data": {
      "text/html": [
       "<div>\n",
       "<table border=\"1\" class=\"dataframe\">\n",
       "  <thead>\n",
       "    <tr style=\"text-align: right;\">\n",
       "      <th></th>\n",
       "      <th>x</th>\n",
       "      <th>y</th>\n",
       "      <th>x</th>\n",
       "      <th>y</th>\n",
       "      <th>mean</th>\n",
       "    </tr>\n",
       "  </thead>\n",
       "  <tbody>\n",
       "    <tr>\n",
       "      <th>0</th>\n",
       "      <td>-0.237018</td>\n",
       "      <td>3</td>\n",
       "      <td>-1.980707</td>\n",
       "      <td>2</td>\n",
       "      <td>0.695569</td>\n",
       "    </tr>\n",
       "    <tr>\n",
       "      <th>1</th>\n",
       "      <td>0.490402</td>\n",
       "      <td>3</td>\n",
       "      <td>1.702359</td>\n",
       "      <td>4</td>\n",
       "      <td>2.298190</td>\n",
       "    </tr>\n",
       "    <tr>\n",
       "      <th>2</th>\n",
       "      <td>0.619423</td>\n",
       "      <td>3</td>\n",
       "      <td>0.946358</td>\n",
       "      <td>1</td>\n",
       "      <td>1.391445</td>\n",
       "    </tr>\n",
       "    <tr>\n",
       "      <th>3</th>\n",
       "      <td>0.702522</td>\n",
       "      <td>0</td>\n",
       "      <td>0.814818</td>\n",
       "      <td>0</td>\n",
       "      <td>0.379335</td>\n",
       "    </tr>\n",
       "    <tr>\n",
       "      <th>4</th>\n",
       "      <td>1.006702</td>\n",
       "      <td>1</td>\n",
       "      <td>-1.025354</td>\n",
       "      <td>4</td>\n",
       "      <td>1.245337</td>\n",
       "    </tr>\n",
       "    <tr>\n",
       "      <th>5</th>\n",
       "      <td>-0.782496</td>\n",
       "      <td>1</td>\n",
       "      <td>-1.142849</td>\n",
       "      <td>3</td>\n",
       "      <td>0.518664</td>\n",
       "    </tr>\n",
       "    <tr>\n",
       "      <th>6</th>\n",
       "      <td>0.995922</td>\n",
       "      <td>2</td>\n",
       "      <td>0.413115</td>\n",
       "      <td>4</td>\n",
       "      <td>1.852259</td>\n",
       "    </tr>\n",
       "    <tr>\n",
       "      <th>7</th>\n",
       "      <td>0.858401</td>\n",
       "      <td>1</td>\n",
       "      <td>0.882652</td>\n",
       "      <td>1</td>\n",
       "      <td>0.935263</td>\n",
       "    </tr>\n",
       "    <tr>\n",
       "      <th>8</th>\n",
       "      <td>2.287795</td>\n",
       "      <td>4</td>\n",
       "      <td>0.819540</td>\n",
       "      <td>3</td>\n",
       "      <td>2.526834</td>\n",
       "    </tr>\n",
       "    <tr>\n",
       "      <th>9</th>\n",
       "      <td>1.339832</td>\n",
       "      <td>1</td>\n",
       "      <td>-1.566217</td>\n",
       "      <td>4</td>\n",
       "      <td>1.193404</td>\n",
       "    </tr>\n",
       "  </tbody>\n",
       "</table>\n",
       "</div>"
      ],
      "text/plain": [
       "          x  y         x  y      mean\n",
       "0 -0.237018  3 -1.980707  2  0.695569\n",
       "1  0.490402  3  1.702359  4  2.298190\n",
       "2  0.619423  3  0.946358  1  1.391445\n",
       "3  0.702522  0  0.814818  0  0.379335\n",
       "4  1.006702  1 -1.025354  4  1.245337\n",
       "5 -0.782496  1 -1.142849  3  0.518664\n",
       "6  0.995922  2  0.413115  4  1.852259\n",
       "7  0.858401  1  0.882652  1  0.935263\n",
       "8  2.287795  4  0.819540  3  2.526834\n",
       "9  1.339832  1 -1.566217  4  1.193404"
      ]
     },
     "execution_count": 185,
     "metadata": {},
     "output_type": "execute_result"
    }
   ],
   "source": [
    "df1 = pd.DataFrame(dict(x=np.random.randn(10), y=np.random.randint(0, 5, 10)))\n",
    "df2 = pd.DataFrame(dict(x=np.random.randn(10), y=np.random.randint(0, 5, 10)))\n",
    "\n",
    "df_concat = pd.concat([df1, df2], axis=1)\n",
    "df_concat['mean'] = df_concat.mean(axis=1)\n",
    "df_concat"
   ]
  },
  {
   "cell_type": "code",
   "execution_count": 72,
   "metadata": {
    "collapsed": false,
    "scrolled": true
   },
   "outputs": [
    {
     "name": "stdout",
     "output_type": "stream",
     "text": [
      "[2*x + 1, 4*y, 6*z]\n"
     ]
    },
    {
     "ename": "NameError",
     "evalue": "name 'initPoint' is not defined",
     "output_type": "error",
     "traceback": [
      "\u001b[0;31m---------------------------------------------------------------------------\u001b[0m",
      "\u001b[0;31mNameError\u001b[0m                                 Traceback (most recent call last)",
      "\u001b[0;32m<ipython-input-72-3643ea543efc>\u001b[0m in \u001b[0;36m<module>\u001b[0;34m()\u001b[0m\n\u001b[1;32m      4\u001b[0m \u001b[0mmJ\u001b[0m\u001b[0;34m=\u001b[0m\u001b[0mmatrizJacobiana\u001b[0m\u001b[0;34m(\u001b[0m\u001b[0mf1\u001b[0m\u001b[0;34m,\u001b[0m\u001b[0ma\u001b[0m\u001b[0;34m)\u001b[0m\u001b[0;34m\u001b[0m\u001b[0m\n\u001b[1;32m      5\u001b[0m \u001b[0mprint\u001b[0m\u001b[0;34m(\u001b[0m\u001b[0mmJ\u001b[0m\u001b[0;34m)\u001b[0m\u001b[0;34m\u001b[0m\u001b[0m\n\u001b[0;32m----> 6\u001b[0;31m \u001b[0mcreateMats\u001b[0m\u001b[0;34m(\u001b[0m\u001b[0mmJ\u001b[0m\u001b[0;34m,\u001b[0m \u001b[0ma\u001b[0m\u001b[0;34m,\u001b[0m \u001b[0minitPoint\u001b[0m\u001b[0;34m)\u001b[0m\u001b[0;34m\u001b[0m\u001b[0m\n\u001b[0m",
      "\u001b[0;31mNameError\u001b[0m: name 'initPoint' is not defined"
     ]
    }
   ],
   "source": [
    "a = symbols('x y z', real=True)\n",
    "\n",
    "f1 = x**2+x+2*y**2+3*z**2\n",
    "mJ=matrizJacobiana(f1,a)\n",
    "print(mJ)\n",
    "createMats(mJ, a, initPoint)"
   ]
  },
  {
   "cell_type": "code",
   "execution_count": null,
   "metadata": {
    "collapsed": true
   },
   "outputs": [],
   "source": []
  }
 ],
 "metadata": {
  "kernelspec": {
   "display_name": "Python 3",
   "language": "python",
   "name": "python3"
  },
  "language_info": {
   "codemirror_mode": {
    "name": "ipython",
    "version": 3
   },
   "file_extension": ".py",
   "mimetype": "text/x-python",
   "name": "python",
   "nbconvert_exporter": "python",
   "pygments_lexer": "ipython3",
   "version": "3.6.0"
  }
 },
 "nbformat": 4,
 "nbformat_minor": 2
}
