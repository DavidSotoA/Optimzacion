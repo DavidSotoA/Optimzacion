{
 "cells": [
  {
   "cell_type": "code",
   "execution_count": 13,
   "metadata": {
    "collapsed": true
   },
   "outputs": [],
   "source": [
    "class Point:\n",
    "    def __init__(self, x, y):\n",
    "        self.x = x\n",
    "        self.y = y\n",
    "\n",
    "class Client:\n",
    "    def __init__(self, point, cost):\n",
    "        self.point = point\n",
    "        self.cost = cost\n",
    "        \n",
    "class Office:\n",
    "    def __init__(self, point, cost, storage):\n",
    "        self.point = point\n",
    "        self.cost = cost\n",
    "        self.storage = storage"
   ]
  },
  {
   "cell_type": "code",
   "execution_count": 61,
   "metadata": {
    "collapsed": false
   },
   "outputs": [],
   "source": [
    "## procesamiento de datos\n",
    "#\"./data/fl_1000_2\"\n",
    "def procesarDatos(url):\n",
    "    sedes = []\n",
    "    clientes = []\n",
    "    with open(url) as f:\n",
    "        i = 1\n",
    "        for line in f:\n",
    "            l = line.split()\n",
    "            if i == 1:\n",
    "                cant_sedes = int(l[0])\n",
    "                cant_clientes = int(l[1])\n",
    "            else:\n",
    "                if (cant_sedes > 0):\n",
    "                    sedes.append(Office(Point(float(l[2]), float(l[3])), int(l[0]) , int(l[1]) ))\n",
    "                else:\n",
    "                    clientes.append(Client(Point(float(l[1]), float(l[2])), int(l[0])))\n",
    "                cant_sedes = cant_sedes - 1    \n",
    "            i = i + 1\n",
    "    return (sedes, clientes)"
   ]
  }
 ],
 "metadata": {
  "kernelspec": {
   "display_name": "Python 3",
   "language": "python",
   "name": "python3"
  },
  "language_info": {
   "codemirror_mode": {
    "name": "ipython",
    "version": 3
   },
   "file_extension": ".py",
   "mimetype": "text/x-python",
   "name": "python",
   "nbconvert_exporter": "python",
   "pygments_lexer": "ipython3",
   "version": "3.6.0"
  }
 },
 "nbformat": 4,
 "nbformat_minor": 2
}
