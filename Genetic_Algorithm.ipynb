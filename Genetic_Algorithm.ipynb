{
 "cells": [
  {
   "cell_type": "code",
   "execution_count": 1242,
   "metadata": {
    "collapsed": false
   },
   "outputs": [],
   "source": [
    "# Constantes\n",
    "def OFFICE_ID(i):\n",
    "    return \"office_\" + str(i)\n",
    "\n",
    "def CLIENT_ID(i):\n",
    "    return \"client_\" + str(i)\n",
    "\n",
    "LIMITE_POBLACION_INICIAL = 5000\n",
    "URL = \"./data/fl_3_1\""
   ]
  },
  {
   "cell_type": "code",
   "execution_count": 1243,
   "metadata": {
    "collapsed": true
   },
   "outputs": [],
   "source": [
    "# Funciones matemáticas\n",
    "import math\n",
    "\n",
    "def distance(p1, p2):\n",
    "    return math.sqrt(math.pow((p1.x - p2.x), 2) + math.pow((p1.y - p2.y), 2))"
   ]
  },
  {
   "cell_type": "code",
   "execution_count": 1244,
   "metadata": {
    "collapsed": false
   },
   "outputs": [],
   "source": [
    "# Definición de clases\n",
    "class Point:\n",
    "    def __init__(self, x, y):\n",
    "        self.x = x\n",
    "        self.y = y\n",
    "\n",
    "class Client:\n",
    "    def __init__(self, clientId, point, cost):\n",
    "        self.point = point\n",
    "        self.cost = cost\n",
    "        self.clientId = clientId\n",
    "        \n",
    "class Office:\n",
    "    def __init__(self, officeId, point, cost, storage):\n",
    "        self.point = point\n",
    "        self.cost = cost\n",
    "        self.storage = storage\n",
    "        self.officeId = officeId\n",
    "        self.avaibleStorage = storage\n",
    "    \n",
    "    def resetStorage(self, storage):\n",
    "        self.avaibleStorage = storage\n",
    "    \n",
    "    def setStorage(self, clientCost):\n",
    "        self.avaibleStorage = self.avaibleStorage - clientCost\n",
    "        \n",
    "class Individual:\n",
    "    def __init__(self, officesOfClients, idn):\n",
    "        self.officesOfClients = officesOfClients\n",
    "        self.idn = idn\n",
    "        \n",
    "    def __eq__(self, other):\n",
    "        \"\"\"Override the default Equals behavior\"\"\"\n",
    "        if isinstance(other, self.__class__):\n",
    "            return self.__dict__ == other.__dict__\n",
    "        return NotImplemented\n",
    "    \n",
    "    def removeGenBySede(self, idn):\n",
    "        self.officesOfClients =  list(filter(lambda ind: ind[0].officeId != idn, self.officesOfClients))\n",
    "    \n",
    "    def addGen(self, gen):\n",
    "        self.officesOfClients.append(gen)\n",
    "    \n",
    "    def addSedeOfClients(self, newAdn):\n",
    "        self.officesOfClients =  self.officesOfClients + newAdn\n",
    "        \n",
    "    def fitness(self):\n",
    "        size = len(self.officesOfClients)\n",
    "        cost = 0\n",
    "        for i in range(0, size):\n",
    "            sede, cliente = self.officesOfClients[i]\n",
    "            dist = distance(sede.point, cliente.point)\n",
    "            cost = cost + (dist * sede.cost)\n",
    "        return cost\n",
    "    \n",
    "    @staticmethod\n",
    "    def validRestrictions(officesOfClients, offices):\n",
    "        for office in offices:\n",
    "            clientsOfOffice = list(filter(lambda officeClient : officeClient[0].officeId == office.officeId, officesOfClients))\n",
    "            if clientsOfOffice:\n",
    "                costoTotal = 0\n",
    "                sede, _ = clientsOfOffice[0]\n",
    "                almacenamientoSede = sede.storage\n",
    "                for _ , client in clientsOfOffice:\n",
    "                    costoTotal = costoTotal + client.cost\n",
    "                if costoTotal > almacenamientoSede:\n",
    "                    return False\n",
    "        return True\n",
    "    \n",
    "\n",
    "class Population:\n",
    "    def __init__(self, individuals):\n",
    "        self.individuals = individuals\n",
    "        \n",
    "    def getIndividualByIndex(self, index):\n",
    "        return self.individuals[index]\n",
    "    \n",
    "    def addIndividual(self, inds):\n",
    "        self.individuals = self.individuals + inds"
   ]
  },
  {
   "cell_type": "code",
   "execution_count": 1245,
   "metadata": {
    "collapsed": false
   },
   "outputs": [],
   "source": [
    "#Utilidades\n",
    "def resetAvaibleStorage(sedes):\n",
    "    for sede in sedes:\n",
    "        sede.resetStorage(sede.storage)\n",
    "\n",
    "def existIndividual(listInd, ind):\n",
    "    for i in listInd:\n",
    "        if (i.officesOfClients == ind.officesOfClients):\n",
    "            return True\n",
    "            break\n",
    "    return False\n",
    "\n",
    "def getIndexById(sedes, idn):\n",
    "    return [s for s in sedes if s.officeId == idn][0]\n"
   ]
  },
  {
   "cell_type": "code",
   "execution_count": 1246,
   "metadata": {
    "collapsed": false
   },
   "outputs": [],
   "source": [
    "# procesamiento de datos\n",
    "def procesarDatos(url):\n",
    "    sedes = []\n",
    "    clientes = []\n",
    "    sede_id = 0\n",
    "    cliente_id = 0\n",
    "    with open(url) as f:\n",
    "        i = 1\n",
    "        for line in f:\n",
    "            l = line.split()\n",
    "            if i == 1:\n",
    "                cant_sedes = int(l[0])\n",
    "                cant_clientes = int(l[1])\n",
    "            else:\n",
    "                if (cant_sedes > 0):\n",
    "                    sedes.append(Office(str(sede_id), Point(float(l[2]), float(l[3])), float(l[0]), float(l[1]) ))\n",
    "                    sede_id = sede_id + 1\n",
    "                else:\n",
    "                    clientes.append(Client(str(cliente_id), Point(float(l[1]), float(l[2])), float(l[0])))\n",
    "                    cliente_id = cliente_id + 1\n",
    "                cant_sedes = cant_sedes - 1    \n",
    "            i = i + 1\n",
    "    return (sedes, clientes)"
   ]
  },
  {
   "cell_type": "code",
   "execution_count": 1247,
   "metadata": {
    "collapsed": false
   },
   "outputs": [],
   "source": [
    "from random import randint\n"
   ]
  },
  {
   "cell_type": "code",
   "execution_count": 1252,
   "metadata": {
    "collapsed": false
   },
   "outputs": [],
   "source": [
    "import random\n",
    "import math\n",
    "\n",
    "def crearPoblacion(numIndividuos, sedes, clientes):\n",
    "    numSedes = len(sedes)\n",
    "    numClientes = len(clientes)\n",
    "    salir = False\n",
    "                    \n",
    "    poblacion = []\n",
    "    j = 0\n",
    "    k = j\n",
    "    while j < numIndividuos and not salir:\n",
    "        individuo = []\n",
    "        for i in range(0, numClientes):        \n",
    "            cliente = clientes[i]\n",
    "            sedesDisponibles = list(filter(lambda sede: sede.avaibleStorage >= cliente.cost, sedes))        \n",
    "            index =  random.randint(0, (len(sedesDisponibles) - 1))\n",
    "            sede = sedesDisponibles[index]\n",
    "            sede.setStorage(cliente.cost)\n",
    "            individuo.append((sede, cliente))\n",
    "        ind = Individual(individuo, j)\n",
    "        k = k +1\n",
    "        if(k > numIndividuos * 10):\n",
    "                salir = True\n",
    "        if not existIndividual(poblacion, ind):    \n",
    "            poblacion.append(ind)\n",
    "            j = j + 1\n",
    "        resetAvaibleStorage(sedes)\n",
    "    return Population(poblacion)\n",
    "\n",
    "def seleccionPorElitismo(poblacion, sample):\n",
    "    poblacionTam = len(poblacion.individuals)\n",
    "    selectInds = int(poblacionTam * sample)\n",
    "    fit=[]\n",
    "    for ind in poblacion.individuals:\n",
    "        fit.append((ind.fitness(), ind))\n",
    "    return [x[1] for x in sorted(fit, key=lambda student: student[0])[:selectInds]]\n",
    "    \n",
    "def seleccionPorTorneo(poblacion, sample, numeroDeParticipantes):\n",
    "    poblacionTam = len(poblacion.individuals)\n",
    "    if numeroDeParticipantes > poblacionTam:\n",
    "        raise Exception('El número de participantes debe ser menor a la población')\n",
    "    selectInds = int(poblacionTam * sample)\n",
    "    inds = []\n",
    "    p = poblacion.individuals\n",
    "    i = 0\n",
    "    while i < selectInds:\n",
    "        if(len(p) < numeroDeParticipantes):\n",
    "            numeroDeParticipantes = len(p)\n",
    "        indsTorneo = random.sample(p, numeroDeParticipantes)\n",
    "        fit = []\n",
    "        for ind in indsTorneo:\n",
    "            fit.append((ind.fitness(), ind))\n",
    "        participantes = [x[1] for x in sorted(fit, key=lambda student: student[0])]\n",
    "        ganador = participantes[0]\n",
    "        inds.append(ganador)\n",
    "        p = [a for a in p if a != ganador]\n",
    "        i = i + 1 \n",
    "    return inds\n",
    "\n",
    "def mutacion(poblacion, prob, sedes):\n",
    "    for ind in poblacion.individuals:\n",
    "        rnd = random.random()     \n",
    "        if rnd <=  prob:\n",
    "            x = ind.officesOfClients\n",
    "            numeroDeGenes = len(x)\n",
    "            index = random.randint(0, numeroDeGenes-1)\n",
    "            sedeMutante, _ = x[index]\n",
    "            sedemMutanteId = sedeMutante.officeId\n",
    "            clientesMutantes = [cli[1] for cli in list(filter(lambda z: z[0].officeId == sedemMutanteId, x))]\n",
    "            clientesCost = sum(c.cost for c in clientesMutantes)\n",
    "            sedeStorage = sedeMutante.storage\n",
    "            for sede in sedes:\n",
    "                sedeSustitutaId = sede.officeId\n",
    "                if sedeSustitutaId != sedemMutanteId:\n",
    "                    clientesSustitutos = [cli[1] for cli in list(filter(lambda z: \\\n",
    "                                                                      z[0].officeId == sedeSustitutaId, x))]\n",
    "                    clientesSustitutosCost = sum(c.cost for c in clientesSustitutos)\n",
    "                    sedeSustitutosStorageStorage = sede.storage\n",
    "                    if clientesCost <= sedeSustitutosStorageStorage and clientesSustitutosCost <= sedeStorage:\n",
    "                        ind.removeGenBySede(sedemMutanteId)\n",
    "                        ind.removeGenBySede(sedeSustitutaId)\n",
    "                        l1 = [(sede, c) for c in clientesMutantes]\n",
    "                        l2 = [(sedeMutante, c) for c in clientesSustitutos]\n",
    "                        ind.addSedeOfClients(l1 + l2)\n",
    "                        break\n",
    "    return poblacion  \n",
    "\n",
    "def cruce(poblacion, clientes, sedes, hijosSample):\n",
    "    p = poblacion.individuals[:]\n",
    "    numeroDeHijos = math.ceil(hijosSample * len(p))\n",
    "    poblacionReproductora = seleccionPorElitismo(poblacion, 1)\n",
    "    machos = poblacionReproductora[::2]\n",
    "    hembras = poblacionReproductora[1::2]\n",
    "    \n",
    "    i = 0\n",
    "    m = 0\n",
    "    h = 0\n",
    "    hijos = []\n",
    "    while(i < numeroDeHijos):\n",
    "        if len(machos) <= m: \n",
    "            break\n",
    "        padre = machos[m].officesOfClients\n",
    "        madre = hembras[h].officesOfClients\n",
    "        hijo = []\n",
    "        valid = True\n",
    "        for c in clientes:\n",
    "            sPadre, cPadre = [(sede, cliente) for (sede, cliente) in padre if cliente.clientId == c.clientId][0]\n",
    "            sMadre, cMadre = [(sede, cliente) for (sede, cliente) in madre if cliente.clientId == c.clientId][0]\n",
    "            sedeGenP = [sede for sede in sedes if sede.officeId == sPadre.officeId][0]\n",
    "            sedeGenM = [sede for sede in sedes if sede.officeId == sMadre.officeId][0]\n",
    "            sedeValidaP, sedeValidaM = (False, False)\n",
    "            if sedeGenP.avaibleStorage >= cPadre.cost : sedeValidaP = True\n",
    "            if sedeGenM.avaibleStorage >= cMadre.cost : sedeValidaM = True\n",
    "            genHijo = 0\n",
    "            rnd = random.random()\n",
    "            if rnd < 0.5 and sedeValidaM: \n",
    "                genHijo = (sMadre, cMadre)\n",
    "                getIndexById(sedes, sMadre.officeId).setStorage(cMadre.cost)\n",
    "            elif rnd >= 0.5 and sedeValidaP:\n",
    "                genHijo = (sPadre, cPadre)\n",
    "                getIndexById(sedes, sPadre.officeId).setStorage(cPadre.cost)\n",
    "            if genHijo != 0:\n",
    "                hijo.append(genHijo)\n",
    "            else:\n",
    "                valid = False\n",
    "                break\n",
    "        resetAvaibleStorage(sedes)\n",
    "        h = h + 1\n",
    "        if h == len(hembras) - 1:\n",
    "            m = m + 1\n",
    "            h = 0\n",
    "        ind = Individual(hijo, i)\n",
    "        if (valid) and (not existIndividual(p, ind)):\n",
    "            hijos.append(ind)\n",
    "            p.append(ind)\n",
    "            i = i + 1\n",
    "    return hijos"
   ]
  },
  {
   "cell_type": "code",
   "execution_count": 1253,
   "metadata": {
    "collapsed": false
   },
   "outputs": [],
   "source": [
    "# genetic algorithm\n",
    "\n",
    "def geneticAlgorithm(path, generaciones, tamPoblacion, hijosSample, mutacionProb, seleccionElitismo, participantesTorneoSample):\n",
    "    sedes, clientes = procesarDatos(path)\n",
    "    print(\"init\")\n",
    "    seleccionTorneo = 1 - seleccionElitismo\n",
    "    participantesTorneo = int(participantesTorneoSample * tamPoblacion)\n",
    "    poblacion = crearPoblacion(tamPoblacion, sedes, clientes)\n",
    "    tamPoblacion = len(poblacion.individuals)\n",
    "    tamTorneo = seleccionTorneo * tamPoblacion\n",
    "    tamElitismo = seleccionElitismo * tamPoblacion\n",
    "    best = []\n",
    "    #print(\"repeat_init: \" + str(repeatInd(poblacion.individuals)))\n",
    "    for i in range(generaciones):\n",
    "        #print(\"i: \" + str(i))\n",
    "        hijos = Population(cruce(poblacion, clientes, sedes, hijosSample))\n",
    "        #print(\"repeat_cruce: \" + str(repeatInd(hijos.individuals)))\n",
    "        hijos = mutacion(hijos, mutacionProb, sedes)\n",
    "        poblacion.addIndividual(hijos.individuals)\n",
    "        #print(str(len(poblacion.individuals)))\n",
    "        #print(\"repeat_mutacion: \" + str(repeatInd(poblacion.individuals)))\n",
    "        tamPoblacion = len(poblacion.individuals)\n",
    "        sE = tamElitismo / tamPoblacion \n",
    "        p1 = seleccionPorElitismo(poblacion, sE)\n",
    "        #print(\"elitismoS\")\n",
    "        pParaTorneo = Population([a for a in poblacion.individuals if a not in p1])\n",
    "        sT = tamTorneo / len(pParaTorneo.individuals)\n",
    "        p2 = seleccionPorTorneo(pParaTorneo, sT, participantesTorneo)\n",
    "        #print(\"torneoS\")\n",
    "        poblacion = Population(p1 + p2)\n",
    "        mejorIndividuo = seleccionPorElitismo(poblacion, 1/len(poblacion.individuals))[0]\n",
    "        #print(\"repeat_select: \" + str(repeatInd(poblacion.individuals)))\n",
    "        best.append((mejorIndividuo, mejorIndividuo.fitness()))\n",
    "    return best\n",
    "    \n",
    "    "
   ]
  },
  {
   "cell_type": "code",
   "execution_count": 1254,
   "metadata": {
    "collapsed": false
   },
   "outputs": [],
   "source": [
    "import matplotlib.pyplot as plt\n",
    "\n",
    "def saveSolucion(solucion, path):\n",
    "    strResp = str(solucion[1]) + \"\\n\"\n",
    "    ind = solucion[0].officesOfClients\n",
    "    for x in ind:\n",
    "        strResp = strResp + x[0].officeId + \" \"\n",
    "    \n",
    "    file = open(path, 'w')\n",
    "    file.write(strResp)\n",
    "    file.close()\n",
    "\n",
    "def execGeneticAlgorithm(pathIn, pathOut, generaciones, tamPoblacion, hijosSample, mutacionProb, seleccionElitismo, participantesTorneoSample):\n",
    "    x = geneticAlgorithm(pathIn, generaciones, tamPoblacion, hijosSample, mutacionProb, seleccionElitismo, participantesTorneoSample)\n",
    "    saveSolucion(x[-1], pathOut)\n",
    "    return x"
   ]
  },
  {
   "cell_type": "code",
   "execution_count": 1257,
   "metadata": {
    "collapsed": false,
    "scrolled": false
   },
   "outputs": [
    {
     "name": "stdout",
     "output_type": "stream",
     "text": [
      "init\n"
     ]
    },
    {
     "data": {
      "text/plain": [
       "[(<__main__.Individual at 0x7f31ff1cd240>, 173972515018.40457),\n",
       " (<__main__.Individual at 0x7f31ff1cd240>, 173972515018.40457),\n",
       " (<__main__.Individual at 0x7f31ff1cd240>, 173972515018.40457),\n",
       " (<__main__.Individual at 0x7f31f99d8940>, 169207757273.19522),\n",
       " (<__main__.Individual at 0x7f31ff281c50>, 168609299065.33142),\n",
       " (<__main__.Individual at 0x7f31f99d8f28>, 164013896072.7079),\n",
       " (<__main__.Individual at 0x7f31f9a2c588>, 158529436896.923),\n",
       " (<__main__.Individual at 0x7f31f99d8b70>, 155037014793.51163),\n",
       " (<__main__.Individual at 0x7f31f99d8b70>, 155037014793.51163),\n",
       " (<__main__.Individual at 0x7f31f9a2c470>, 151147476052.92493)]"
      ]
     },
     "execution_count": 1257,
     "metadata": {},
     "output_type": "execute_result"
    }
   ],
   "source": [
    "\"\"\"\n",
    "* método de algorimo genetico para el problema de asiganción\n",
    "* Parametros:\n",
    "*   - pathIn: indica la dirección de donde se cargaran los datos.\n",
    "*   - pathOut: indica la dirección donde se guardaran los resultados\n",
    "*   - tamPoblacion: indica el número de individuos que tendra la población.\n",
    "*   - hijosSample: indica el porcentaje de hijos que  se crearan en base a la población inicial.\n",
    "*   - mutacionProb: probabilidad de que un hijo mute.\n",
    "*   - seleccionElitismo: Indica el porcentaje de individuos que seran seleccionados con elitismo \n",
    "*     (el procentaje de individuos seleccionados por torneo sera de 1 - seleccionElitismo)\n",
    "*   - participantesTorneoSample: porcentaje de individuos que participaran en un torneo en la selección por torneo\n",
    "\"\"\"\n",
    "\n",
    "pathIn =  \"./data/fl_25_1\"\n",
    "pathOut = \"./solucion.txt\"\n",
    "generaciones = 10\n",
    "tamPoblacion = 10\n",
    "hijosSample = 0.8\n",
    "mutacionProb = 1\n",
    "seleccionElitismo = 0.1\n",
    "participantesTorneoSample = 0.2\n",
    "\n",
    "x = execGeneticAlgorithm(pathIn, pathOut, generaciones, tamPoblacion, hijosSample, mutacionProb, seleccionElitismo, participantesTorneoSample)\n",
    "x"
   ]
  },
  {
   "cell_type": "code",
   "execution_count": 1258,
   "metadata": {
    "collapsed": true
   },
   "outputs": [],
   "source": [
    "def geneticAlgorithmExperiments(path, poblacion, generaciones, tamPoblacion, hijosSample, mutacionProb, seleccionElitismo, participantesTorneoSample):\n",
    "    sedes, clientes = procesarDatos(path)\n",
    "    #print(\"init\")\n",
    "    seleccionTorneo = 1 - seleccionElitismo\n",
    "    participantesTorneo = int(participantesTorneoSample * tamPoblacion)\n",
    "    tamPoblacion = len(poblacion.individuals)\n",
    "    tamTorneo = seleccionTorneo * tamPoblacion\n",
    "    tamElitismo = seleccionElitismo * tamPoblacion\n",
    "    best = []\n",
    "    #print(\"repeat_init: \" + str(repeatInd(poblacion.individuals)))\n",
    "    for i in range(generaciones):\n",
    "        #print(\"i: \" + str(i))\n",
    "        hijos = Population(cruce(poblacion, clientes, sedes, hijosSample))\n",
    "        #print(\"repeat_cruce: \" + str(repeatInd(hijos.individuals)))\n",
    "        hijos = mutacion(hijos, mutacionProb, sedes)\n",
    "        poblacion.addIndividual(hijos.individuals)\n",
    "        #print(str(len(poblacion.individuals)))\n",
    "        #print(\"repeat_mutacion: \" + str(repeatInd(poblacion.individuals)))\n",
    "        tamPoblacion = len(poblacion.individuals)\n",
    "        sE = tamElitismo / tamPoblacion \n",
    "        p1 = seleccionPorElitismo(poblacion, sE)\n",
    "        #print(\"elitismoS\")\n",
    "        pParaTorneo = Population([a for a in poblacion.individuals if a not in p1])\n",
    "        sT = tamTorneo / len(pParaTorneo.individuals)\n",
    "        p2 = seleccionPorTorneo(pParaTorneo, sT, participantesTorneo)\n",
    "        #print(\"torneoS\")\n",
    "        poblacion = Population(p1 + p2)\n",
    "        mejorIndividuo = seleccionPorElitismo(poblacion, 1/len(poblacion.individuals))[0]\n",
    "        #print(\"repeat_select: \" + str(repeatInd(poblacion.individuals)))\n",
    "        best.append((mejorIndividuo, mejorIndividuo.fitness()))\n",
    "    return best"
   ]
  },
  {
   "cell_type": "code",
   "execution_count": 1259,
   "metadata": {
    "collapsed": false
   },
   "outputs": [],
   "source": [
    "def graficar(mean, std, iteraciones):\n",
    "    x = [x + 1 for x in range(iteraciones + 1)]\n",
    "    plt.figure(figsize=(15, 8))\n",
    "    plt.errorbar(x, mean, yerr=std, fmt='-o', ecolor='r')\n",
    "    plt.show()\n",
    "\n",
    "def experimentos(pathIn, numExperimentos,generaciones, tamPoblacion, hijosSample, mutacionProb, seleccionElitismo, participantesTorneoSample):\n",
    "    sedes, clientes = procesarDatos(pathIn)\n",
    "    poblacion = crearPoblacion(tamPoblacion, sedes, clientes)\n",
    "\n",
    "    c = [str(x) for x in range(generaciones + 1)]\n",
    "    df = pd.DataFrame(columns = c)\n",
    "    mejorIndividuo = seleccionPorElitismo(poblacion, 1/len(poblacion.individuals))[0]\n",
    "    mejorIndividuoInicial = seleccionPorElitismo(poblacion, 1/len(poblacion.individuals))[0].fitness()\n",
    "\n",
    "\n",
    "    for i in range(numExperimentos):\n",
    "        print(\"experimento: \" + str(i + 1))\n",
    "        p = Population(poblacion.individuals[:])\n",
    "        x = geneticAlgorithmExperiments(pathIn, p, generaciones, \\\n",
    "                                        tamPoblacion, hijosSample, mutacionProb, \\\n",
    "                                        seleccionElitismo, participantesTorneoSample)\n",
    "        df.loc[len(df)] = [mejorIndividuoInicial] + [a[1] for a in x]\n",
    "\n",
    "\n",
    "    mean = df[c].mean().tolist()\n",
    "    std = df[c].std().tolist()\n",
    "    graficar(mean, std, generaciones)\n"
   ]
  },
  {
   "cell_type": "code",
   "execution_count": 1260,
   "metadata": {
    "collapsed": false
   },
   "outputs": [
    {
     "name": "stdout",
     "output_type": "stream",
     "text": [
      "experimento: 1\n",
      "experimento: 2\n",
      "experimento: 3\n",
      "experimento: 4\n",
      "experimento: 5\n",
      "experimento: 6\n",
      "experimento: 7\n",
      "experimento: 8\n",
      "experimento: 9\n",
      "experimento: 10\n"
     ]
    },
    {
     "data": {
      "image/png": "[encoded data removed]",
      "text/plain": [
       "<matplotlib.figure.Figure at 0x7f320f1504e0>"
      ]
     },
     "metadata": {},
     "output_type": "display_data"
    }
   ],
   "source": [
    "# Experimentos\n",
    "\n",
    "import pandas as pd\n",
    "import numpy as np\n",
    "\n",
    "pathIn =  \"./data/fl_25_1\"\n",
    "generaciones = 100\n",
    "tamPoblacion = 10\n",
    "hijosSample = 2\n",
    "mutacionProb = 1\n",
    "seleccionElitismo = 0.1\n",
    "participantesTorneoSample = 0.2\n",
    "numExperimentos = 10\n",
    "\n",
    "experimentos(pathIn, numExperimentos,generaciones, tamPoblacion, hijosSample, mutacionProb, seleccionElitismo, participantesTorneoSample)"
   ]
  },
  {
   "cell_type": "code",
   "execution_count": 652,
   "metadata": {
    "collapsed": false
   },
   "outputs": [
    {
     "name": "stdout",
     "output_type": "stream",
     "text": [
      "False\n"
     ]
    }
   ],
   "source": [
    "def existIndividual2(listInd, ind):\n",
    "    j = 0\n",
    "    for i in listInd:\n",
    "        if (i.officesOfClients == ind.officesOfClients):\n",
    "            j = j + 1\n",
    "            if j == 2:\n",
    "                return True\n",
    "    return False\n",
    "\n",
    "def repeatInd(p):\n",
    "    j = 0\n",
    "    for i in p:\n",
    "        if existIndividual2(p, i):\n",
    "            return True\n",
    "            break\n",
    "    return False\n",
    "\n",
    "path =  \"./data/fl_3_1\"\n",
    "sedes, clientes = procesarDatos(path)\n",
    "poblacion = crearPoblacion(27, sedes, clientes)\n",
    "\n",
    "print(repeatInd(poblacion.individuals))"
   ]
  },
  {
   "cell_type": "code",
   "execution_count": 996,
   "metadata": {
    "collapsed": false
   },
   "outputs": [
    {
     "name": "stdout",
     "output_type": "stream",
     "text": [
      "----------INDIVIDUO_0-------------------\n",
      "True\n",
      "sede: office_0\n",
      "cliente: client_0\n",
      "\n",
      "sede: office_2\n",
      "cliente: client_1\n",
      "\n",
      "sede: office_2\n",
      "cliente: client_2\n",
      "\n",
      "sede: office_2\n",
      "cliente: client_3\n",
      "\n",
      "----------INDIVIDUO_1-------------------\n",
      "True\n",
      "sede: office_2\n",
      "cliente: client_0\n",
      "\n",
      "sede: office_0\n",
      "cliente: client_1\n",
      "\n",
      "sede: office_2\n",
      "cliente: client_2\n",
      "\n",
      "sede: office_1\n",
      "cliente: client_3\n",
      "\n",
      "----------INDIVIDUO_0-------------------\n",
      "True\n",
      "sede: office_2\n",
      "cliente: client_0\n",
      "\n",
      "sede: office_2\n",
      "cliente: client_1\n",
      "\n",
      "sede: office_2\n",
      "cliente: client_2\n",
      "\n",
      "sede: office_2\n",
      "cliente: client_3\n",
      "\n"
     ]
    }
   ],
   "source": [
    "#test cruce\n",
    "sedes, clientes = procesarDatos(\"./data/fl_3_1\")\n",
    "poblacion = 2\n",
    "x = crearPoblacion(poblacion, sedes, clientes)\n",
    "x.addIndividual(cruce(x, clientes, sedes, 0.4))\n",
    "printPoblacion(x)"
   ]
  },
  {
   "cell_type": "code",
   "execution_count": 244,
   "metadata": {
    "collapsed": false,
    "scrolled": true
   },
   "outputs": [
    {
     "data": {
      "text/plain": [
       "True"
      ]
     },
     "execution_count": 244,
     "metadata": {},
     "output_type": "execute_result"
    }
   ],
   "source": [
    "\n",
    "l = x.individuals\n",
    "l[0].officesOfClients == l[2].officesOfClients\n",
    "\n",
    "\n",
    "def existIndividual(listInd, ind):\n",
    "    for i in listInd:\n",
    "        if (i.officesOfClients == ind.officesOfClients):\n",
    "            return True\n",
    "    return False\n",
    "\n",
    "existIndividual(l, l[2])"
   ]
  },
  {
   "cell_type": "code",
   "execution_count": 219,
   "metadata": {
    "collapsed": false,
    "scrolled": true
   },
   "outputs": [
    {
     "data": {
      "text/plain": [
       "False"
      ]
     },
     "execution_count": 219,
     "metadata": {},
     "output_type": "execute_result"
    }
   ],
   "source": [
    "= Individual(2, 3)"
   ]
  },
  {
   "cell_type": "code",
   "execution_count": 442,
   "metadata": {
    "collapsed": true
   },
   "outputs": [
    {
     "name": "stdout",
     "output_type": "stream",
     "text": [
      "----------INDIVIDUO_0-------------------\n",
      "True\n",
      "id: office_4\n",
      "x: 0.0, y: 0.0\n",
      "cost: 100.0\n",
      "storage: 500.0\n",
      "avaibleStorage: 500.0\n",
      "id: client_5\n",
      "x: 1397.0, y: 1397.0\n",
      "cost: 50.0\n",
      "\n",
      "id: office_3\n",
      "x: 1062.0, y: 1062.0\n",
      "cost: 100.0\n",
      "storage: 100.0\n",
      "avaibleStorage: 100.0\n",
      "id: client_6\n",
      "x: 1398.0, y: 1398.0\n",
      "cost: 50.0\n",
      "\n",
      "id: office_4\n",
      "x: 0.0, y: 0.0\n",
      "cost: 100.0\n",
      "storage: 500.0\n",
      "avaibleStorage: 500.0\n",
      "id: client_7\n",
      "x: 1399.0, y: 1399.0\n",
      "cost: 75.0\n",
      "\n",
      "id: office_4\n",
      "x: 0.0, y: 0.0\n",
      "cost: 100.0\n",
      "storage: 500.0\n",
      "avaibleStorage: 500.0\n",
      "id: client_8\n",
      "x: 586.0, y: 586.0\n",
      "cost: 75.0\n",
      "\n",
      "----------INDIVIDUO_1-------------------\n",
      "True\n",
      "id: office_4\n",
      "x: 0.0, y: 0.0\n",
      "cost: 100.0\n",
      "storage: 500.0\n",
      "avaibleStorage: 500.0\n",
      "id: client_5\n",
      "x: 1397.0, y: 1397.0\n",
      "cost: 50.0\n",
      "\n",
      "id: office_2\n",
      "x: 1065.0, y: 1065.0\n",
      "cost: 100.0\n",
      "storage: 100.0\n",
      "avaibleStorage: 100.0\n",
      "id: client_6\n",
      "x: 1398.0, y: 1398.0\n",
      "cost: 50.0\n",
      "\n",
      "id: office_3\n",
      "x: 1062.0, y: 1062.0\n",
      "cost: 100.0\n",
      "storage: 100.0\n",
      "avaibleStorage: 100.0\n",
      "id: client_7\n",
      "x: 1399.0, y: 1399.0\n",
      "cost: 75.0\n",
      "\n",
      "id: office_4\n",
      "x: 0.0, y: 0.0\n",
      "cost: 100.0\n",
      "storage: 500.0\n",
      "avaibleStorage: 500.0\n",
      "id: client_8\n",
      "x: 586.0, y: 586.0\n",
      "cost: 75.0\n",
      "\n",
      "----------INDIVIDUO_0-------------------\n",
      "True\n",
      "id: office_4\n",
      "x: 0.0, y: 0.0\n",
      "cost: 100.0\n",
      "storage: 500.0\n",
      "avaibleStorage: 500.0\n",
      "id: client_5\n",
      "x: 1397.0, y: 1397.0\n",
      "cost: 50.0\n",
      "\n",
      "id: office_4\n",
      "x: 0.0, y: 0.0\n",
      "cost: 100.0\n",
      "storage: 500.0\n",
      "avaibleStorage: 500.0\n",
      "id: client_7\n",
      "x: 1399.0, y: 1399.0\n",
      "cost: 75.0\n",
      "\n",
      "id: office_4\n",
      "x: 0.0, y: 0.0\n",
      "cost: 100.0\n",
      "storage: 500.0\n",
      "avaibleStorage: 500.0\n",
      "id: client_8\n",
      "x: 586.0, y: 586.0\n",
      "cost: 75.0\n",
      "\n",
      "id: office_2\n",
      "x: 1065.0, y: 1065.0\n",
      "cost: 100.0\n",
      "storage: 100.0\n",
      "avaibleStorage: 100.0\n",
      "id: client_6\n",
      "x: 1398.0, y: 1398.0\n",
      "cost: 50.0\n",
      "\n",
      "----------INDIVIDUO_1-------------------\n",
      "True\n",
      "id: office_4\n",
      "x: 0.0, y: 0.0\n",
      "cost: 100.0\n",
      "storage: 500.0\n",
      "avaibleStorage: 500.0\n",
      "id: client_5\n",
      "x: 1397.0, y: 1397.0\n",
      "cost: 50.0\n",
      "\n",
      "id: office_4\n",
      "x: 0.0, y: 0.0\n",
      "cost: 100.0\n",
      "storage: 500.0\n",
      "avaibleStorage: 500.0\n",
      "id: client_8\n",
      "x: 586.0, y: 586.0\n",
      "cost: 75.0\n",
      "\n",
      "id: office_2\n",
      "x: 1065.0, y: 1065.0\n",
      "cost: 100.0\n",
      "storage: 100.0\n",
      "avaibleStorage: 100.0\n",
      "id: client_7\n",
      "x: 1399.0, y: 1399.0\n",
      "cost: 75.0\n",
      "\n",
      "id: office_3\n",
      "x: 1062.0, y: 1062.0\n",
      "cost: 100.0\n",
      "storage: 100.0\n",
      "avaibleStorage: 100.0\n",
      "id: client_6\n",
      "x: 1398.0, y: 1398.0\n",
      "cost: 50.0\n",
      "\n"
     ]
    }
   ],
   "source": [
    "#test mutacion\n",
    "sedes, clientes = procesarDatos(\"./data/fl_3_1\")\n",
    "poblacion = 2\n",
    "x = crearPoblacion(poblacion, sedes, clientes)\n",
    "printPoblacion(x)\n",
    "x = mutacion(x, 1, sedes)\n",
    "printPoblacion(x)"
   ]
  },
  {
   "cell_type": "code",
   "execution_count": 311,
   "metadata": {
    "collapsed": false,
    "scrolled": false
   },
   "outputs": [
    {
     "name": "stdout",
     "output_type": "stream",
     "text": [
      "----------INDIVIDUO_0-------------------\n",
      "True\n",
      "id: office_3\n",
      "x: 1062.0, y: 1062.0\n",
      "cost: 100.0\n",
      "storage: 100.0\n",
      "avaibleStorage: 100.0\n",
      "id: client_5\n",
      "x: 1397.0, y: 1397.0\n",
      "cost: 50.0\n",
      "\n",
      "id: office_4\n",
      "x: 0.0, y: 0.0\n",
      "cost: 100.0\n",
      "storage: 500.0\n",
      "avaibleStorage: 500.0\n",
      "id: client_6\n",
      "x: 1398.0, y: 1398.0\n",
      "cost: 50.0\n",
      "\n",
      "id: office_2\n",
      "x: 1065.0, y: 1065.0\n",
      "cost: 100.0\n",
      "storage: 100.0\n",
      "avaibleStorage: 100.0\n",
      "id: client_7\n",
      "x: 1399.0, y: 1399.0\n",
      "cost: 75.0\n",
      "\n",
      "id: office_4\n",
      "x: 0.0, y: 0.0\n",
      "cost: 100.0\n",
      "storage: 500.0\n",
      "avaibleStorage: 500.0\n",
      "id: client_8\n",
      "x: 586.0, y: 586.0\n",
      "cost: 75.0\n",
      "\n",
      "----------INDIVIDUO_1-------------------\n",
      "True\n",
      "id: office_2\n",
      "x: 1065.0, y: 1065.0\n",
      "cost: 100.0\n",
      "storage: 100.0\n",
      "avaibleStorage: 100.0\n",
      "id: client_5\n",
      "x: 1397.0, y: 1397.0\n",
      "cost: 50.0\n",
      "\n",
      "id: office_3\n",
      "x: 1062.0, y: 1062.0\n",
      "cost: 100.0\n",
      "storage: 100.0\n",
      "avaibleStorage: 100.0\n",
      "id: client_6\n",
      "x: 1398.0, y: 1398.0\n",
      "cost: 50.0\n",
      "\n",
      "id: office_4\n",
      "x: 0.0, y: 0.0\n",
      "cost: 100.0\n",
      "storage: 500.0\n",
      "avaibleStorage: 500.0\n",
      "id: client_7\n",
      "x: 1399.0, y: 1399.0\n",
      "cost: 75.0\n",
      "\n",
      "id: office_4\n",
      "x: 0.0, y: 0.0\n",
      "cost: 100.0\n",
      "storage: 500.0\n",
      "avaibleStorage: 500.0\n",
      "id: client_8\n",
      "x: 586.0, y: 586.0\n",
      "cost: 75.0\n",
      "\n",
      "----------INDIVIDUO_0-------------------\n",
      "True\n",
      "id: office_3\n",
      "x: 1062.0, y: 1062.0\n",
      "cost: 100.0\n",
      "storage: 100.0\n",
      "avaibleStorage: 100.0\n",
      "id: client_5\n",
      "x: 1397.0, y: 1397.0\n",
      "cost: 50.0\n",
      "\n",
      "id: office_2\n",
      "x: 1065.0, y: 1065.0\n",
      "cost: 100.0\n",
      "storage: 100.0\n",
      "avaibleStorage: 100.0\n",
      "id: client_7\n",
      "x: 1399.0, y: 1399.0\n",
      "cost: 75.0\n",
      "\n",
      "----------INDIVIDUO_1-------------------\n",
      "True\n",
      "id: office_2\n",
      "x: 1065.0, y: 1065.0\n",
      "cost: 100.0\n",
      "storage: 100.0\n",
      "avaibleStorage: 100.0\n",
      "id: client_5\n",
      "x: 1397.0, y: 1397.0\n",
      "cost: 50.0\n",
      "\n",
      "id: office_3\n",
      "x: 1062.0, y: 1062.0\n",
      "cost: 100.0\n",
      "storage: 100.0\n",
      "avaibleStorage: 100.0\n",
      "id: client_6\n",
      "x: 1398.0, y: 1398.0\n",
      "cost: 50.0\n",
      "\n",
      "id: office_4\n",
      "x: 0.0, y: 0.0\n",
      "cost: 100.0\n",
      "storage: 500.0\n",
      "avaibleStorage: 500.0\n",
      "id: client_7\n",
      "x: 1399.0, y: 1399.0\n",
      "cost: 75.0\n",
      "\n",
      "id: office_4\n",
      "x: 0.0, y: 0.0\n",
      "cost: 100.0\n",
      "storage: 500.0\n",
      "avaibleStorage: 500.0\n",
      "id: client_8\n",
      "x: 586.0, y: 586.0\n",
      "cost: 75.0\n",
      "\n",
      "----------INDIVIDUO_0-------------------\n",
      "False\n",
      "id: office_3\n",
      "x: 1062.0, y: 1062.0\n",
      "cost: 100.0\n",
      "storage: 100.0\n",
      "avaibleStorage: 100.0\n",
      "id: client_5\n",
      "x: 1397.0, y: 1397.0\n",
      "cost: 50.0\n",
      "\n",
      "id: office_2\n",
      "x: 1065.0, y: 1065.0\n",
      "cost: 100.0\n",
      "storage: 100.0\n",
      "avaibleStorage: 100.0\n",
      "id: client_7\n",
      "x: 1399.0, y: 1399.0\n",
      "cost: 75.0\n",
      "\n",
      "id: office_2\n",
      "x: 1065.0, y: 1065.0\n",
      "cost: 100.0\n",
      "storage: 100.0\n",
      "avaibleStorage: 100.0\n",
      "id: client_5\n",
      "x: 1397.0, y: 1397.0\n",
      "cost: 50.0\n",
      "\n",
      "id: office_3\n",
      "x: 1062.0, y: 1062.0\n",
      "cost: 100.0\n",
      "storage: 100.0\n",
      "avaibleStorage: 100.0\n",
      "id: client_6\n",
      "x: 1398.0, y: 1398.0\n",
      "cost: 50.0\n",
      "\n",
      "----------INDIVIDUO_1-------------------\n",
      "True\n",
      "id: office_2\n",
      "x: 1065.0, y: 1065.0\n",
      "cost: 100.0\n",
      "storage: 100.0\n",
      "avaibleStorage: 100.0\n",
      "id: client_5\n",
      "x: 1397.0, y: 1397.0\n",
      "cost: 50.0\n",
      "\n",
      "id: office_3\n",
      "x: 1062.0, y: 1062.0\n",
      "cost: 100.0\n",
      "storage: 100.0\n",
      "avaibleStorage: 100.0\n",
      "id: client_6\n",
      "x: 1398.0, y: 1398.0\n",
      "cost: 50.0\n",
      "\n",
      "id: office_4\n",
      "x: 0.0, y: 0.0\n",
      "cost: 100.0\n",
      "storage: 500.0\n",
      "avaibleStorage: 500.0\n",
      "id: client_7\n",
      "x: 1399.0, y: 1399.0\n",
      "cost: 75.0\n",
      "\n",
      "id: office_4\n",
      "x: 0.0, y: 0.0\n",
      "cost: 100.0\n",
      "storage: 500.0\n",
      "avaibleStorage: 500.0\n",
      "id: client_8\n",
      "x: 586.0, y: 586.0\n",
      "cost: 75.0\n",
      "\n"
     ]
    }
   ],
   "source": [
    "sedes, clientes = procesarDatos(\"./data/fl_3_1\")\n",
    "poblacion = 2\n",
    "x = crearPoblacion(poblacion, sedes, clientes)\n",
    "printPoblacion(x)\n",
    "x.individuals[0].removeGenBySede(\"office_4\")\n",
    "printPoblacion(x)\n",
    "x.individuals[0].addSedeOfClients([(sedes[0], clientes[0]), (sedes[1], clientes[1])])\n",
    "printPoblacion(x)\n"
   ]
  },
  {
   "cell_type": "code",
   "execution_count": 213,
   "metadata": {
    "collapsed": false
   },
   "outputs": [
    {
     "data": {
      "text/plain": [
       "[[<__main__.Individual at 0x7fee1c40c2b0>],\n",
       " [<__main__.Individual at 0x7fee1c368390>],\n",
       " [<__main__.Individual at 0x7fee1c3680f0>],\n",
       " [<__main__.Individual at 0x7fee1c3680f0>],\n",
       " [<__main__.Individual at 0x7fee1c3ed048>],\n",
       " [<__main__.Individual at 0x7fee1c40c2b0>]]"
      ]
     },
     "execution_count": 213,
     "metadata": {},
     "output_type": "execute_result"
    }
   ],
   "source": [
    "#test seleccionPorTorneo # falta\n",
    "import random\n",
    "\n",
    "sedes, clientes = procesarDatos(\"./data/fl_3_1\")\n",
    "poblacion = 10\n",
    "x = crearPoblacion(poblacion, sedes, clientes)\n",
    "seleccionPorTorneo(x, 0.6, 10)"
   ]
  },
  {
   "cell_type": "code",
   "execution_count": 214,
   "metadata": {
    "collapsed": false,
    "scrolled": true
   },
   "outputs": [
    {
     "data": {
      "text/plain": [
       "[<__main__.Individual at 0x7fee1c40c470>,\n",
       " <__main__.Individual at 0x7fee1c40c240>,\n",
       " <__main__.Individual at 0x7fee1c40cdd8>]"
      ]
     },
     "execution_count": 214,
     "metadata": {},
     "output_type": "execute_result"
    }
   ],
   "source": [
    "# test selecccionPorElitismo(falta)\n",
    "sedes, clientes = procesarDatos(\"./data/fl_3_1\")\n",
    "poblacion = 10\n",
    "x = crearPoblacion(poblacion, sedes, clientes)\n",
    "seleccionPorElitismo(x, 0.3)"
   ]
  },
  {
   "cell_type": "code",
   "execution_count": null,
   "metadata": {
    "collapsed": true
   },
   "outputs": [],
   "source": []
  },
  {
   "cell_type": "code",
   "execution_count": 89,
   "metadata": {
    "collapsed": false
   },
   "outputs": [
    {
     "name": "stdout",
     "output_type": "stream",
     "text": [
      "450.0\n",
      "500.0\n"
     ]
    }
   ],
   "source": [
    "sedes, clientes = procesarDatos(\"./data/fl_3_1\")\n",
    "cliente = clientes[0]\n",
    "sedesDisponibles = list(filter(lambda sede: sede.avaibleStorage >= cliente.cost + 51, sedes))\n",
    "index =  randint(0, (len(sedesDisponibles) - 1))\n",
    "sede = sedesDisponibles[index]\n",
    "sede.setStorage(cliente.cost)\n",
    "\n",
    "#sedesDisponibles[index].avaibleStorage\n",
    "print(sedes[2].avaibleStorage)\n",
    "resetAvaibleStorage(sedes)\n",
    "print(sedes[2].avaibleStorage)\n"
   ]
  },
  {
   "cell_type": "code",
   "execution_count": 168,
   "metadata": {
    "collapsed": false,
    "scrolled": false
   },
   "outputs": [],
   "source": [
    "sedes, clientes = procesarDatos(\"./data/fl_3_1\")\n",
    "poblacion = 7\n",
    "x = crearPoblacion(poblacion, sedes, clientes)\n",
    "def printPoblacion(x):\n",
    "    for ind in x.individuals:\n",
    "        print(\"----------INDIVIDUO_\" + str(ind.idn) + \"-------------------\")\n",
    "        valid = Individual.validRestrictions(ind.officesOfClients, sedes)\n",
    "        if(valid == False):\n",
    "            raise Exception('Individuo no valido')\n",
    "        print(Individual.validRestrictions(ind.officesOfClients, sedes))\n",
    "        for gen in ind.officesOfClients:\n",
    "            sede, cliente = gen\n",
    "            print(\"sede: \" + sede.officeId)\n",
    "            #print(\"x: \" + str(sede.point.x) + \", y: \" + str(sede.point.y))\n",
    "            #print(\"cost: \" + str(sede.cost))\n",
    "            #print(\"storage: \" + str(sede.storage))\n",
    "            #print(\"avaibleStorage: \" + str(sede.avaibleStorage))\n",
    "            print(\"cliente: \" + cliente.clientId)\n",
    "            #print(\"x: \" + str(cliente.point.x) + \", y: \" + str(cliente.point.y))\n",
    "            #print(\"cost: \" + str(cliente.cost))\n",
    "            print()"
   ]
  },
  {
   "cell_type": "code",
   "execution_count": 16,
   "metadata": {
    "collapsed": true
   },
   "outputs": [
    {
     "name": "stdout",
     "output_type": "stream",
     "text": [
      "------------------SEDES----------------------\n",
      "id: office_2\n",
      "x: 1065.0, y: 1065.0\n",
      "cost: 100.0\n",
      "storage: 100.0\n",
      "\n",
      "id: office_3\n",
      "x: 1062.0, y: 1062.0\n",
      "cost: 100.0\n",
      "storage: 100.0\n",
      "\n",
      "id: office_4\n",
      "x: 0.0, y: 0.0\n",
      "cost: 100.0\n",
      "storage: 500.0\n",
      "\n",
      "------------------CLIENTES----------------------\n",
      "id: client_5\n",
      "x: 1397.0, y: 1397.0\n",
      "cost: 50.0\n",
      "\n",
      "id: client_6\n",
      "x: 1398.0, y: 1398.0\n",
      "cost: 50.0\n",
      "\n",
      "id: client_7\n",
      "x: 1399.0, y: 1399.0\n",
      "cost: 75.0\n",
      "\n",
      "id: client_8\n",
      "x: 586.0, y: 586.0\n",
      "cost: 75.0\n",
      "\n"
     ]
    }
   ],
   "source": [
    "sedes, clientes = procesarDatos(URL)\n",
    "print(\"------------------SEDES----------------------\")\n",
    "for sede in sedes:\n",
    "    print(\"id: \" + sede.officeId)\n",
    "    print(\"x: \" + str(sede.point.x) + \", y: \" + str(sede.point.y))\n",
    "    print(\"cost: \" + str(sede.cost))\n",
    "    print(\"storage: \" + str(sede.storage))\n",
    "    print()\n",
    "print(\"------------------CLIENTES----------------------\")\n",
    "for cliente in clientes:\n",
    "    print(\"id: \" + cliente.clientId)\n",
    "    print(\"x: \" + str(cliente.point.x) + \", y: \" + str(cliente.point.y))\n",
    "    print(\"cost: \" + str(cliente.cost))\n",
    "    print()"
   ]
  },
  {
   "cell_type": "code",
   "execution_count": 17,
   "metadata": {
    "collapsed": false
   },
   "outputs": [
    {
     "name": "stdout",
     "output_type": "stream",
     "text": [
      "100\n",
      "122\n"
     ]
    }
   ],
   "source": [
    "off = Office(\"1\",Point(3.0, 6.0), 233, 122)\n",
    "off.setStorage(22)\n",
    "print(off.avaibleStorage)\n",
    "off.resetStorage(off.storage)\n",
    "print(off.avaibleStorage)"
   ]
  },
  {
   "cell_type": "code",
   "execution_count": 52,
   "metadata": {
    "collapsed": false
   },
   "outputs": [
    {
     "data": {
      "text/plain": [
       "(<__main__.Office at 0x7fee1c3fc5c0>, <__main__.Client at 0x7fee1c3fc550>)"
      ]
     },
     "execution_count": 52,
     "metadata": {},
     "output_type": "execute_result"
    }
   ],
   "source": [
    "sedes, clientes = procesarDatos(\"./data/fl_3_1\")\n",
    "poblacion = 2\n",
    "x = crearPoblacion(poblacion, sedes, clientes)\n",
    "x.individuals[0].officesOfClients[0]"
   ]
  },
  {
   "cell_type": "code",
   "execution_count": 355,
   "metadata": {
    "collapsed": false,
    "scrolled": true
   },
   "outputs": [
    {
     "data": {
      "text/plain": [
       "0.8968984481299977"
      ]
     },
     "execution_count": 355,
     "metadata": {},
     "output_type": "execute_result"
    }
   ],
   "source": [
    "import random\n",
    "\n",
    "elements = [(1,1,1),(2,3,7),(3,5,10)]\n",
    "[x[0] for x in elements]\n",
    "random.random()"
   ]
  },
  {
   "cell_type": "code",
   "execution_count": 302,
   "metadata": {
    "collapsed": false
   },
   "outputs": [
    {
     "data": {
      "text/plain": [
       "[(1, 'a'), (2, 'a'), (3, 'a'), (4, 'a'), (5, 'a')]"
      ]
     },
     "execution_count": 302,
     "metadata": {},
     "output_type": "execute_result"
    }
   ],
   "source": [
    "l = [1,2,3,4,5]\n",
    "a = [(i, \"a\") for i in l]\n",
    "a"
   ]
  },
  {
   "cell_type": "markdown",
   "metadata": {
    "collapsed": false
   },
   "source": [
    "## x = [(1, 1), (2, 2), (2, 3), (4, 4)]\n",
    "[(a, b) for (a, b) in x if a == 3]\n"
   ]
  },
  {
   "cell_type": "code",
   "execution_count": 7,
   "metadata": {
    "collapsed": false
   },
   "outputs": [
    {
     "data": {
      "text/plain": [
       "2"
      ]
     },
     "execution_count": 7,
     "metadata": {},
     "output_type": "execute_result"
    }
   ],
   "source": [
    "import math\n",
    "math.ceil(1.4)"
   ]
  },
  {
   "cell_type": "code",
   "execution_count": 9,
   "metadata": {
    "collapsed": false
   },
   "outputs": [
    {
     "data": {
      "text/plain": [
       "[1, 2, 3, 4, 1]"
      ]
     },
     "execution_count": 9,
     "metadata": {},
     "output_type": "execute_result"
    }
   ],
   "source": [
    "[1,2,3,4] + [1]"
   ]
  },
  {
   "cell_type": "code",
   "execution_count": 183,
   "metadata": {
    "collapsed": false
   },
   "outputs": [
    {
     "data": {
      "text/plain": [
       "True"
      ]
     },
     "execution_count": 183,
     "metadata": {},
     "output_type": "execute_result"
    }
   ],
   "source": [
    "x = [1,2,1,4]\n",
    "x[0] in [x[2]]"
   ]
  },
  {
   "cell_type": "code",
   "execution_count": null,
   "metadata": {
    "collapsed": true
   },
   "outputs": [],
   "source": []
  }
 ],
 "metadata": {
  "kernelspec": {
   "display_name": "Python 3",
   "language": "python",
   "name": "python3"
  },
  "language_info": {
   "codemirror_mode": {
    "name": "ipython",
    "version": 3
   },
   "file_extension": ".py",
   "mimetype": "text/x-python",
   "name": "python",
   "nbconvert_exporter": "python",
   "pygments_lexer": "ipython3",
   "version": "3.6.0"
  }
 },
 "nbformat": 4,
 "nbformat_minor": 2
}
