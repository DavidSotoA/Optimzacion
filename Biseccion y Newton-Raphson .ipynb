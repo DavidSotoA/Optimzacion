{
 "cells": [
  {
   "cell_type": "code",
   "execution_count": 47,
   "metadata": {
    "collapsed": false
   },
   "outputs": [],
   "source": [
    "import pandas as pd\n",
    "import numpy as np\n",
    "import math as m\n",
    "from IPython.display import display, HTML\n",
    "\n",
    "def isNegative(num):\n",
    "    return  num < 0\n",
    "\n",
    "\n",
    "\n",
    "def biseccion(threshold, f, epsilon, numIterations):\n",
    "    x0 = threshold[0]\n",
    "    x1 = threshold[1]\n",
    "    assert (isNegative(f.evalf(subs={x:x0})) != isNegative(f.evalf(subs={x:x1}))),\"Biseccion: Los signos de los limites deben ser diferentes\"\n",
    "    \n",
    "    values = pd.DataFrame(columns=('x0', 'x1', 'xp', 'f(x0)', 'f(x1)', 'f(xp)', 'error'))\n",
    "    i = 0\n",
    "    error = m.fabs(x0 - x1)\n",
    "    while((i < numIterations) and (error > epsilon)):\n",
    "        xp = x0 + (m.fabs(x0-x1)/2)\n",
    "        f_x0 = f.evalf(subs={x:x0})\n",
    "        f_x1 = f.evalf(subs={x:x1})\n",
    "        biseccion = f.evalf(subs={x:xp})\n",
    "        if(biseccion == 0):\n",
    "            return values\n",
    "        elif(isNegative(f_x0) == isNegative(biseccion)):\n",
    "            x0 = xp\n",
    "        elif(isNegative(f_x1) == isNegative(biseccion)): \n",
    "            x1 = xp\n",
    "        i = i + 1 \n",
    "        error = m.fabs(x0 - x1)\n",
    "        values.loc[len(values)] = [x0, x1, xp, f_x0, f_x1, biseccion, error]\n",
    "    return values \n",
    "\n",
    "def newtonRaphson(point, f, epsilon, numIterations):\n",
    "    derivative = f.diff(x)\n",
    "    values = pd.DataFrame(columns=('x', 'new_x', 'f(x)', 'f(x_new_x)', 'error'))\n",
    "    error = -1\n",
    "    i = 0\n",
    "    while((i < numIterations) and (error > epsilon or error == -1)):\n",
    "        f_point = f.evalf(subs={x:point})\n",
    "        fp_point = derivative.evalf(subs={x:point})\n",
    "        point2 = point - (f_point)/(fp_point)\n",
    "        f_newPoint = f.evalf(subs={x:point2})\n",
    "        error = m.fabs(f_newPoint)\n",
    "        values.loc[len(values)] = [point, point2, f_point, f_newPoint, error]\n",
    "        point = point2\n",
    "        i = i + 1\n",
    "    return values\n",
    "\n",
    "    \n",
    "    \n",
    "        "
   ]
  },
  {
   "cell_type": "code",
   "execution_count": 50,
   "metadata": {
    "collapsed": false,
    "scrolled": false
   },
   "outputs": [
    {
     "data": {
      "text/html": [
       "<div>\n",
       "<table border=\"1\" class=\"dataframe\">\n",
       "  <thead>\n",
       "    <tr style=\"text-align: right;\">\n",
       "      <th></th>\n",
       "      <th>x</th>\n",
       "      <th>new_x</th>\n",
       "      <th>f(x)</th>\n",
       "      <th>f(x_new_x)</th>\n",
       "      <th>error</th>\n",
       "    </tr>\n",
       "  </thead>\n",
       "  <tbody>\n",
       "    <tr>\n",
       "      <th>0</th>\n",
       "      <td>2</td>\n",
       "      <td>-1.50000000000000</td>\n",
       "      <td>5.60000000000000</td>\n",
       "      <td>-15.6187500000001</td>\n",
       "      <td>1.561875e+01</td>\n",
       "    </tr>\n",
       "    <tr>\n",
       "      <th>1</th>\n",
       "      <td>-1.50000000000000</td>\n",
       "      <td>-0.775232018561487</td>\n",
       "      <td>-15.6187500000001</td>\n",
       "      <td>-4.85013836189075</td>\n",
       "      <td>4.850138e+00</td>\n",
       "    </tr>\n",
       "    <tr>\n",
       "      <th>2</th>\n",
       "      <td>-0.775232018561487</td>\n",
       "      <td>-0.265413642582549</td>\n",
       "      <td>-4.85013836189075</td>\n",
       "      <td>-1.21237950374803</td>\n",
       "      <td>1.212380e+00</td>\n",
       "    </tr>\n",
       "    <tr>\n",
       "      <th>3</th>\n",
       "      <td>-0.265413642582549</td>\n",
       "      <td>-0.0336687026594466</td>\n",
       "      <td>-1.21237950374803</td>\n",
       "      <td>-0.136761442373427</td>\n",
       "      <td>1.367614e-01</td>\n",
       "    </tr>\n",
       "    <tr>\n",
       "      <th>4</th>\n",
       "      <td>-0.0336687026594466</td>\n",
       "      <td>-0.000517098056048812</td>\n",
       "      <td>-0.136761442373427</td>\n",
       "      <td>-0.00206887369285639</td>\n",
       "      <td>2.068874e-03</td>\n",
       "    </tr>\n",
       "    <tr>\n",
       "      <th>5</th>\n",
       "      <td>-0.000517098056048812</td>\n",
       "      <td>-1.20352616465045e-7</td>\n",
       "      <td>-0.00206887369285639</td>\n",
       "      <td>-4.81410491932735e-7</td>\n",
       "      <td>4.814105e-07</td>\n",
       "    </tr>\n",
       "  </tbody>\n",
       "</table>\n",
       "</div>"
      ],
      "text/plain": [
       "                       x                  new_x                  f(x)  \\\n",
       "0                      2      -1.50000000000000      5.60000000000000   \n",
       "1      -1.50000000000000     -0.775232018561487     -15.6187500000001   \n",
       "2     -0.775232018561487     -0.265413642582549     -4.85013836189075   \n",
       "3     -0.265413642582549    -0.0336687026594466     -1.21237950374803   \n",
       "4    -0.0336687026594466  -0.000517098056048812    -0.136761442373427   \n",
       "5  -0.000517098056048812   -1.20352616465045e-7  -0.00206887369285639   \n",
       "\n",
       "             f(x_new_x)         error  \n",
       "0     -15.6187500000001  1.561875e+01  \n",
       "1     -4.85013836189075  4.850138e+00  \n",
       "2     -1.21237950374803  1.212380e+00  \n",
       "3    -0.136761442373427  1.367614e-01  \n",
       "4  -0.00206887369285639  2.068874e-03  \n",
       "5  -4.81410491932735e-7  4.814105e-07  "
      ]
     },
     "execution_count": 50,
     "metadata": {},
     "output_type": "execute_result"
    }
   ],
   "source": [
    "from sympy.abc import x\n",
    "\n",
    "y = -(0.3 * (x ** 4)) + (1.2 * (x ** 3)) - (1.8 * (x ** 2)) + (4 * x) \n",
    "\n",
    "#v = biseccion((3,4), y, 0.0001, 100)\n",
    "v = newtonRaphson(2, y, 0.0001, 100)\n",
    "v"
   ]
  },
  {
   "cell_type": "code",
   "execution_count": 40,
   "metadata": {
    "collapsed": false
   },
   "outputs": [
    {
     "data": {
      "text/plain": [
       "-0.3*x**4 + 1.2*x**3 - 1.8*x**2 + 4*x"
      ]
     },
     "execution_count": 40,
     "metadata": {},
     "output_type": "execute_result"
    }
   ],
   "source": [
    "\n",
    "\n",
    "y = -(0.3 * (x ** 4)) + (1.2 * (x ** 3)) - (1.8 * (x ** 2)) + (4 * x) \n",
    "y\n"
   ]
  },
  {
   "cell_type": "code",
   "execution_count": null,
   "metadata": {
    "collapsed": true
   },
   "outputs": [],
   "source": []
  }
 ],
 "metadata": {
  "kernelspec": {
   "display_name": "Python 3",
   "language": "python",
   "name": "python3"
  },
  "language_info": {
   "codemirror_mode": {
    "name": "ipython",
    "version": 3
   },
   "file_extension": ".py",
   "mimetype": "text/x-python",
   "name": "python",
   "nbconvert_exporter": "python",
   "pygments_lexer": "ipython3",
   "version": "3.6.0"
  }
 },
 "nbformat": 4,
 "nbformat_minor": 2
}
